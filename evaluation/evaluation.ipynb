{
 "cells": [
  {
   "cell_type": "markdown",
   "metadata": {
    "id": "5pQ3KgH9Ubit"
   },
   "source": [
    "# **Evaluación**\n",
    "\n",
    "Script de evaluación del fine-tuning del modelo Stable Diffusion mediante Textual Inversion, LoRA y DreamBooth.\n",
    "\n",
    "Se hace una evaluación manual en base a 3 criterios: fidelidad, robustez, adaptabilidad estilística y creatividad.\n",
    "\n",
    "Además se calcula el CLIP Score para analizar la fidelidad texto-imagen"
   ]
  },
  {
   "cell_type": "markdown",
   "metadata": {
    "id": "_JWsk5BzmU0L"
   },
   "source": [
    "## Configuración inicial"
   ]
  },
  {
   "cell_type": "code",
   "execution_count": null,
   "metadata": {
    "id": "VplkBSUZ2MVw"
   },
   "outputs": [],
   "source": [
    "# !pip install torchmetrics"
   ]
  },
  {
   "cell_type": "code",
   "execution_count": null,
   "metadata": {
    "colab": {
     "base_uri": "https://localhost:8080/"
    },
    "id": "9M6fdPkeMD2b",
    "outputId": "af36beaf-829b-473a-89a9-44718ffd67cd"
   },
   "outputs": [
    {
     "name": "stdout",
     "output_type": "stream",
     "text": [
      "--2025-06-14 13:45:49--  https://raw.githubusercontent.com/sgonzalezgg/sd-finetuning-comparison/refs/heads/main/evaluation/eval_tools.py\n",
      "Resolving raw.githubusercontent.com (raw.githubusercontent.com)... 185.199.108.133, 185.199.109.133, 185.199.110.133, ...\n",
      "Connecting to raw.githubusercontent.com (raw.githubusercontent.com)|185.199.108.133|:443... connected.\n",
      "HTTP request sent, awaiting response... 200 OK\n",
      "Length: 3552 (3.5K) [text/plain]\n",
      "Saving to: ‘eval_tools.py’\n",
      "\n",
      "eval_tools.py       100%[===================>]   3.47K  --.-KB/s    in 0s      \n",
      "\n",
      "2025-06-14 13:45:50 (54.1 MB/s) - ‘eval_tools.py’ saved [3552/3552]\n",
      "\n",
      "--2025-06-14 13:45:50--  https://raw.githubusercontent.com/sgonzalezgg/sd-finetuning-comparison/refs/heads/main/evaluation/config.yaml\n",
      "Resolving raw.githubusercontent.com (raw.githubusercontent.com)... 185.199.108.133, 185.199.109.133, 185.199.110.133, ...\n",
      "Connecting to raw.githubusercontent.com (raw.githubusercontent.com)|185.199.108.133|:443... connected.\n",
      "HTTP request sent, awaiting response... 200 OK\n",
      "Length: 4698 (4.6K) [text/plain]\n",
      "Saving to: ‘config.yaml’\n",
      "\n",
      "config.yaml         100%[===================>]   4.59K  --.-KB/s    in 0s      \n",
      "\n",
      "2025-06-14 13:45:50 (61.4 MB/s) - ‘config.yaml’ saved [4698/4698]\n",
      "\n"
     ]
    }
   ],
   "source": [
    "!wget https://raw.githubusercontent.com/sgonzalezgg/sd-finetuning-comparison/refs/heads/main/evaluation/eval_tools.py\n",
    "!wget https://raw.githubusercontent.com/sgonzalezgg/sd-finetuning-comparison/refs/heads/main/evaluation/config.yaml"
   ]
  },
  {
   "cell_type": "code",
   "execution_count": null,
   "metadata": {
    "id": "5gVvybhvU_et"
   },
   "outputs": [],
   "source": [
    "from diffusers import StableDiffusionPipeline, DPMSolverMultistepScheduler\n",
    "import pandas as pd\n",
    "import yaml"
   ]
  },
  {
   "cell_type": "code",
   "execution_count": null,
   "metadata": {
    "id": "FVBQTWVQRdI0"
   },
   "outputs": [],
   "source": [
    "from eval_tools import *"
   ]
  },
  {
   "cell_type": "markdown",
   "metadata": {
    "id": "0-jztXuMeFxo"
   },
   "source": [
    "## Carga el fichero de configuración"
   ]
  },
  {
   "cell_type": "code",
   "execution_count": null,
   "metadata": {
    "id": "wDdkABKieER_"
   },
   "outputs": [],
   "source": [
    "with open(\"config.yaml\", \"r\") as f:\n",
    "    config = yaml.safe_load(f)\n",
    "\n",
    "prompts_fidelidad = config[\"fidelidad\"][\"prompts\"]\n",
    "negative_prompts_fidelidad = config[\"fidelidad\"][\"negative_prompts\"]\n",
    "names_export_fidelidad = config[\"fidelidad\"][\"names_export\"]\n",
    "\n",
    "prompts_robustez = config[\"robustez\"][\"prompts\"]\n",
    "negative_prompts_robustez = config[\"robustez\"][\"negative_prompts\"]\n",
    "names_export_robustez = config[\"robustez\"][\"names_export\"]\n",
    "\n",
    "prompts_estilos = config[\"estilos\"][\"prompts\"]\n",
    "negative_prompts_estilos= config[\"estilos\"][\"negative_prompts\"]\n",
    "names_export_estilos = config[\"estilos\"][\"names_export\"]\n",
    "\n",
    "prompts_creatividad = config[\"creatividad\"][\"prompts\"]\n",
    "negative_prompts_creatividad = config[\"creatividad\"][\"negative_prompts\"]\n",
    "names_export_creatividad = config[\"creatividad\"][\"names_export\"]"
   ]
  },
  {
   "cell_type": "markdown",
   "metadata": {
    "id": "HR_4M4fGmBaj"
   },
   "source": [
    "## Carga de los modelos entrenados"
   ]
  },
  {
   "cell_type": "code",
   "execution_count": null,
   "metadata": {
    "colab": {
     "base_uri": "https://localhost:8080/",
     "height": 17,
     "referenced_widgets": [
      "0b9d987852d440f3b15c85b7aab4b31c",
      "1f61ac7024574295be1163f02fc3b16a",
      "c0bb07b81f1d460eb58e49b3d5e2c6b2",
      "36783689e36f40b5b0bf6672d2b64f94",
      "6323c301351f4bcca33706adcddea3df",
      "3d33344947724969b64e047e794c60f1",
      "11a25caaa45f4ac8b0a71b59c6d8872f",
      "757d0040e6e74eb88ca99f906561553b",
      "925c7e89ccee46eebd78d9ecd9ebc336",
      "1c228fe1c8a64b948fe05defffaaf1d1",
      "8fd8ab8d251f42a580388159008a4c6b",
      "d3fe26ca2769448f868c1ed3618e01a8",
      "f9bfd26573244dde95a378fb9aa39a48",
      "4edd1cc648e04a99b60b810d4cd0f621",
      "b4f06eb7e7d544c2b747660b965b002c",
      "13b80d6011c548aa8322724421dc97fd",
      "51fe842cf4c64a31851d556b5cdbbf11",
      "767fea37a2ea466c9dd3911e6652e582",
      "313097f7a61849bbbf3a384db7735afd",
      "167403888b2f44879d8f55ab35d93d25"
     ]
    },
    "id": "g7uPo-cutinb",
    "outputId": "bce7f7c4-307a-4abd-d510-372373432e62"
   },
   "outputs": [
    {
     "data": {
      "application/vnd.jupyter.widget-view+json": {
       "model_id": "0b9d987852d440f3b15c85b7aab4b31c",
       "version_major": 2,
       "version_minor": 0
      },
      "text/plain": [
       "VBox(children=(HTML(value='<center> <img\\nsrc=https://huggingface.co/front/assets/huggingface_logo-noborder.sv…"
      ]
     },
     "metadata": {},
     "output_type": "display_data"
    }
   ],
   "source": [
    "from huggingface_hub import notebook_login\n",
    "notebook_login()"
   ]
  },
  {
   "cell_type": "code",
   "execution_count": null,
   "metadata": {
    "colab": {
     "base_uri": "https://localhost:8080/",
     "height": 1000,
     "referenced_widgets": [
      "f39d4bbc123e4cbc86875ea58e4d5e56",
      "73bff950ba8a4bb89807f43542afd0be",
      "3bff54239cba470faa8173b73390399f",
      "5119cc26530f44c0b83bdaf47a9fc8d2",
      "f8baf6ddc482490dad9c91d91b0dc0b9",
      "84465dfa2cc545d8810170928afdc6f2",
      "f5f020d9dde74451818e7b8e9397648b",
      "1babf31c117345c59ea6edd21f006f7e",
      "157686eb0dc34964b05756a2626c5fb0",
      "0a54de4bb0da4413aa431644f341984f",
      "bf44294170e54a39b584a9a399f86be2",
      "5e3e236ca4ee418bb0c1f1dd45b842e1",
      "bbdcf3d34d6d425da31fc5799a2965e3",
      "95e70786cd9e46c58ef009acbeb6a35b",
      "ab650e3e424b4428ab49a2ec98e9b22c",
      "26be3f8061d24992b5159a56181faf59",
      "316a9467de70417296b968ad20d1230b",
      "8b04fb0f9cbc49b5b18bd6374b1b489c",
      "cfaa7f6d75794adbb700029114aec021",
      "9fe5f6354e984c0cbabc74dda628cd83",
      "75df9ca70c444ac3a921e1870e8f5db5",
      "e2609e2c5989495fb883da34f70fda3f",
      "e1a1ba969f354a64b8894b310c1d642c",
      "58eec2e43e53421a93166d2b27a5184f",
      "4d92f5cd5e744d269851d1bc99596f96",
      "f36d4c4eb7cf43db9027bec554b1dcb0",
      "1160b632ed90418c82bcf377cbb7d620",
      "a26dd6f52744422f97224491e25393eb",
      "4f2604b4c7b949d39a0576aa33dae866",
      "9d61fd5969174760bda1ba8ca6f1481e",
      "6529fba6b53341cfb45acd2fbd09917e",
      "ac86c4d592d848718dc9c39db433bbcb",
      "68ab44ba6ec14ea4bfc07609ae3770a8",
      "199bfafe2daf40769d25c0ec4b3e3cf6",
      "272908ebe3764a44ac6c64c59187a78f",
      "c019e54abfe84fcb9a4d7f2e917d3d08",
      "4cd518976909488593092ae65bf2318c",
      "296d0de8526442b7906963ac1cf8ac63",
      "2bb5f8ebed8942d6893dccdeee8f8f27",
      "3b20c9ad31734d15a3c807c8b790862f",
      "68de8951408d443795d27b60b52bbfa8",
      "39aceca38c814c1896f986c98b72f1a7",
      "cb4445af24674ab38eaf90d306f0d17e",
      "cf9f0d8da81b45eb9124973f9df26d30",
      "89fd07088c43430faeb6308593c2367e",
      "0315ca8e4c784c64a6d9407516356a08",
      "ee8b984b614d4c9db2e4b5817111e967",
      "a9f056803b9043c2a0e1712eb602e892",
      "ffa151a7dfbf4369b6bb45f841fe7d63",
      "3c507e8d894d4ca781ea2c18447d80b5",
      "01ecd834906142e28dfbb959c0bd15ae",
      "2ba2d9647e664c68a4324457dc4d4194",
      "79e2e31f690e412993804d8c6d39aecf",
      "4c4c0fa8d43343bf87f6934ee3f94464",
      "ea63408f387f41fd9bb7419a5628abae",
      "6be79eb3492e47fd83000015e9163de0",
      "6c3e7d10d5d2407bb49be38bc0c54a6b",
      "b489e51265b243bf88eb81dfdaa836cc",
      "72b0c83e0ab147fa862d4f2d0b26aab9",
      "c411aec0438f4ce3af2ffbe463e2848a",
      "77c394296de241d69cab46673a8dcdc8",
      "a6de5d94e76246ac9295cf621e0dfd61",
      "c7b672e1665644bd987a0b1c5de0f9da",
      "55ce712f003540cc921f307cba6ddbb4",
      "003ff4f1697949468fa8baa4917c1e3c",
      "3528abb0c3da4209aaf500d99fda52e9",
      "6e447298f9fc4267ac05686a436a670d",
      "5dc1f088e2e3483c822b00f0681075ee",
      "8c2219ce2d0c4601a74908d4e0b90736",
      "f15daca82e484a7d94aa566ec96ce09e",
      "b24a7d9db0aa47e0af89baf1d99051a6",
      "3ea810b4da894f5e8a44efa363340055",
      "89c3aea421524e3e98e8456a09e1be70",
      "96cfb2ffb7d34671bb9c6e5a7cd06f84",
      "fcb04093c65841d391b4e49a9f7f2b3a",
      "8a0fa2a9375f4fcb87ac01eacff645c5",
      "b2d2afa18afd4301bd99fec0f3d9fa1a",
      "3edd51c50b674a88828b5ab2153534ce",
      "341e1b1f7a0a4041aec5364fe20fa8bd",
      "a29d45da699c4f8fa1a9d9f86aac15bb",
      "cee086511f82426c902ac527018ae7e2",
      "0e7f26894e3e4cedbf70023b25dec56a",
      "d83688e0de3b4724988b57ba20325e2d",
      "813481f5aa6a4c49a55bccfa04702530",
      "f89da86be6b84122bcfa988f4c28affa",
      "dbfe78d516a64b2a9b2ba6bca0ae99b1",
      "e2b883491c71482b89113cf9ac2790eb",
      "6becc4da0cef415b8da5915ecb4c180b",
      "dedfbcad98864937a0bd1077801fe9d0",
      "926a8c97b59b41f5bb4fcbabdad5bd5d",
      "a6e78e7478fe4cbeaace6356ab627f6c",
      "e720a81e649a463a861c73a5a90bd0f5",
      "dc25840f3fec426ab67e1ee4e2ea4800",
      "d2b7a486779e4bd3acb3e1b20e4d0ab0",
      "39133223fdaf488faf5217aa14efc3b7",
      "0b2cc73f7e0142c7bae7d7a9abd1b722",
      "35985a356bb34becb8f1a920731cb78a",
      "d069de13c85442dd810f041b4fa0300e",
      "0f2248844954477cbddca3e4350a83d1",
      "6f8146d6ba894a8aab1259419db059ca",
      "3d15aa7f9ac440e8a56b4acd42f6fe1b",
      "ea24cbb62ea4421299f2131f5acf7663",
      "48dfecc1bd0b4a6b8c2ccfed87f3c2fc",
      "1eb4f88f51044c5eb9c0e8a4e90cd77a",
      "c6ac7a12e1f34d5a9eebc321bd5bfb52",
      "be7c98449bf649ceb8e2a1ccb1a3ac6b",
      "157250dc8ec1478cabd66acef8548af1",
      "25ac4075dac244288ef1177ffb97f656",
      "dc9d7e2e575a4df986c8be58952cf4fa",
      "fdd10980c71b429db8c13a799d9104cc",
      "203a0b26a55643ebb67d58169a7b77a2",
      "2a9b901b87514ce7bb10e3b5879c3cca",
      "7f9e2b2b7ef94b74854b6ad0bd87335c",
      "791e378f510c4616bda1c9245c01b3d1",
      "0df1941853464a6dbee2d53680546347",
      "cf7fb7393ac04632849bb778ac315e0f",
      "27670e437abd4ff3b86d1d6cf007a6a0",
      "a84d96898d3549a0b019413e800cf2c1",
      "4ffe1366b2a04deba2d0ba2b4761bca2",
      "ccfc5557d2c442e38d520b82f17cc9f6",
      "6c69b679ae16496d8cf1e634d8acaed0",
      "defe2d7804274be6bc0d7ae94ed7d3a5",
      "90f8b3227b7b4324a23eee3f8c777ba4",
      "31dbe4028b994460bbf0fe64d6514fb8",
      "3cc0cf21a41043298328f120faad1afc",
      "8c2e490b192949cd959e17ecc2164c11",
      "1c01cb783e004eb29afadf188854c15d",
      "eee5cacb82c14a50b4b2d048a6d4710a",
      "6d81073d5e114192bd6e10448a81c7fc",
      "31640c3b3e9741978ed8907ec82e89c4",
      "58cb9491cec5436e915111ecb00efb5e",
      "940f270f87c24af68c887dee52daa21f",
      "0d22f4b3e80045c881752aeb79d500ce",
      "37f52d32142c433e849a29e562d189e7",
      "615ed3f5e13e4cc892dec0a7917a1764",
      "e36406687c4e4ae2a012251d50888195",
      "5c82d00f2d4e47b5bd501df4be3aa091",
      "3d0d5b73aae94f05ae18b49f55c46529",
      "4efca9ad2d634e53b371c3a968461f57",
      "ba7ec1a602324574815330081bab68d9",
      "8a51e617664c4bb495d4d0f2aecfc5b7",
      "4df8b51c2ab142d69ce092a8213ee59c",
      "b7422705619c43d88eef4afa8e3e09aa",
      "85c513f527164c3bb278015e8363f0ae",
      "3b4c915de71849abb864a5dc1501417a",
      "8dfa0606fc4c48708b7cb8f6c259ab0d",
      "479ba88f5ab041c882ff894c0c0c296b",
      "6deaeab984ac478ab072270938655e49",
      "21baacce6a1941bab51ab4ed75440a0a",
      "5d44716eb9a44f89befe156f7d5ed457",
      "4d877caf1e734740ba65d55826c58c90",
      "0f0985a8f893459e96336378f056b841",
      "3368c5224d644b4fadace095a8fb2def",
      "60da7df9419e401f9e5723f051c65383",
      "6fdc64b732994ee685dacebddd013b05",
      "d08454c519c2423f80d449b7202cd3b7",
      "0b3e61bb1a9f44c4926f8d135f69f4ce",
      "6ac59a0393ee4ebf8dab6316387c3a27",
      "ab40aa8766c946b18d3a135a8fbd9e54",
      "6cd46710eb99458e8787e8c6ff67a9be",
      "0ac78baece9c4cc288203f8c51f994f5",
      "c6edbf17ef854e909cacaa266da82899",
      "b4c6c0dc2b4a4b2789a300289012a226",
      "b20cfedda98d44069c5316a98cc66d4a",
      "a42fd73b0f6a4b769806904624281747",
      "d3cc8aa9801840628b67ededac170622",
      "df3ccd659dd1409eb050938c9725f707",
      "d349991857304428b313bfc40eec25c9",
      "1867d50b709f44ce9b93c3ff7c77c8df",
      "0e5a002873734dcd9263ff5549cc29e4",
      "bb79b86a2eba477c9467882ff1f35e83",
      "ea645e1eab0e457e9f3fb4665761647a",
      "7cbd6c9ab1e84935aa11a9f89ed3f682",
      "d829ddc9e48344bfb4caa69d31f75ffb",
      "5eca70a0575e4e5990fafad66afbccdb",
      "ebf4c801b68b42be9ec8d54d9607d84c",
      "1441a32ae0f243d2b7736604762c04b9",
      "467784f8e99e4f299b0905a0fb418734",
      "239bd1b552da441ebe194ff793269c4b",
      "b9f6b872d1924cc2ae3789d38ef73337",
      "3f8d62a792b04460a7b8878590b7dab6",
      "8d4f74d2e1bb4f379159fb02e17eb0aa",
      "1419da11c8c549ca98b673a83091f874",
      "bd03d7b0e8ee4348ab272b1e86eb65ab",
      "7af4f4a64fcb416d9317e027fba49b80",
      "6804136fdae6442cba5f7dfe69da09ab",
      "ee0ac10734f84a37b7a96f74c57cc78f",
      "f2fc67d6065e4fb4bdd19ded429edc57",
      "aa6190c2071d479ca200346643da25a9",
      "5130e38a5dac4f2c96d900bc857d47f0",
      "5ac6971e352d4e0eb019789ee25503d4",
      "d37c67ae1a0c4dd686339abcb2d125ce",
      "18ed896953344867bf681d275c4d9eb6",
      "b093ea798391490d89763f40854fd5d7",
      "02ea558af4d741209a1c6707a41ffaa7",
      "002c092014e64ed6ac43598b630da2ab",
      "ef8e99ea17fb466397f7607b91a9363e",
      "ebdf087cb8f945f6afbd78a157491e70"
     ]
    },
    "id": "XydzL_gVgXPf",
    "outputId": "cf1fa4b2-5941-4981-88a2-9076a6c9ae95"
   },
   "outputs": [
    {
     "name": "stderr",
     "output_type": "stream",
     "text": [
      "/usr/local/lib/python3.11/dist-packages/huggingface_hub/utils/_auth.py:94: UserWarning: \n",
      "The secret `HF_TOKEN` does not exist in your Colab secrets.\n",
      "To authenticate with the Hugging Face Hub, create a token in your settings tab (https://huggingface.co/settings/tokens), set it as secret in your Google Colab and restart your session.\n",
      "You will be able to reuse this secret in all of your notebooks.\n",
      "Please note that authentication is recommended but still optional to access public models or datasets.\n",
      "  warnings.warn(\n"
     ]
    },
    {
     "data": {
      "application/vnd.jupyter.widget-view+json": {
       "model_id": "f39d4bbc123e4cbc86875ea58e4d5e56",
       "version_major": 2,
       "version_minor": 0
      },
      "text/plain": [
       "model_index.json:   0%|          | 0.00/676 [00:00<?, ?B/s]"
      ]
     },
     "metadata": {},
     "output_type": "display_data"
    },
    {
     "data": {
      "application/vnd.jupyter.widget-view+json": {
       "model_id": "5e3e236ca4ee418bb0c1f1dd45b842e1",
       "version_major": 2,
       "version_minor": 0
      },
      "text/plain": [
       "Fetching 16 files:   0%|          | 0/16 [00:00<?, ?it/s]"
      ]
     },
     "metadata": {},
     "output_type": "display_data"
    },
    {
     "data": {
      "application/vnd.jupyter.widget-view+json": {
       "model_id": "e1a1ba969f354a64b8894b310c1d642c",
       "version_major": 2,
       "version_minor": 0
      },
      "text/plain": [
       "model.safetensors:   0%|          | 0.00/1.22G [00:00<?, ?B/s]"
      ]
     },
     "metadata": {},
     "output_type": "display_data"
    },
    {
     "data": {
      "application/vnd.jupyter.widget-view+json": {
       "model_id": "199bfafe2daf40769d25c0ec4b3e3cf6",
       "version_major": 2,
       "version_minor": 0
      },
      "text/plain": [
       "model.safetensors:   0%|          | 0.00/492M [00:00<?, ?B/s]"
      ]
     },
     "metadata": {},
     "output_type": "display_data"
    },
    {
     "data": {
      "application/vnd.jupyter.widget-view+json": {
       "model_id": "89fd07088c43430faeb6308593c2367e",
       "version_major": 2,
       "version_minor": 0
      },
      "text/plain": [
       "preprocessor_config.json:   0%|          | 0.00/466 [00:00<?, ?B/s]"
      ]
     },
     "metadata": {},
     "output_type": "display_data"
    },
    {
     "data": {
      "application/vnd.jupyter.widget-view+json": {
       "model_id": "6be79eb3492e47fd83000015e9163de0",
       "version_major": 2,
       "version_minor": 0
      },
      "text/plain": [
       "merges.txt:   0%|          | 0.00/525k [00:00<?, ?B/s]"
      ]
     },
     "metadata": {},
     "output_type": "display_data"
    },
    {
     "data": {
      "application/vnd.jupyter.widget-view+json": {
       "model_id": "6e447298f9fc4267ac05686a436a670d",
       "version_major": 2,
       "version_minor": 0
      },
      "text/plain": [
       "scheduler_config.json:   0%|          | 0.00/379 [00:00<?, ?B/s]"
      ]
     },
     "metadata": {},
     "output_type": "display_data"
    },
    {
     "data": {
      "application/vnd.jupyter.widget-view+json": {
       "model_id": "3edd51c50b674a88828b5ab2153534ce",
       "version_major": 2,
       "version_minor": 0
      },
      "text/plain": [
       "added_tokens.json:   0%|          | 0.00/22.0 [00:00<?, ?B/s]"
      ]
     },
     "metadata": {},
     "output_type": "display_data"
    },
    {
     "data": {
      "application/vnd.jupyter.widget-view+json": {
       "model_id": "dedfbcad98864937a0bd1077801fe9d0",
       "version_major": 2,
       "version_minor": 0
      },
      "text/plain": [
       "config.json:   0%|          | 0.00/560 [00:00<?, ?B/s]"
      ]
     },
     "metadata": {},
     "output_type": "display_data"
    },
    {
     "data": {
      "application/vnd.jupyter.widget-view+json": {
       "model_id": "6f8146d6ba894a8aab1259419db059ca",
       "version_major": 2,
       "version_minor": 0
      },
      "text/plain": [
       "config.json:   0%|          | 0.00/1.23k [00:00<?, ?B/s]"
      ]
     },
     "metadata": {},
     "output_type": "display_data"
    },
    {
     "data": {
      "application/vnd.jupyter.widget-view+json": {
       "model_id": "203a0b26a55643ebb67d58169a7b77a2",
       "version_major": 2,
       "version_minor": 0
      },
      "text/plain": [
       "special_tokens_map.json:   0%|          | 0.00/585 [00:00<?, ?B/s]"
      ]
     },
     "metadata": {},
     "output_type": "display_data"
    },
    {
     "data": {
      "application/vnd.jupyter.widget-view+json": {
       "model_id": "defe2d7804274be6bc0d7ae94ed7d3a5",
       "version_major": 2,
       "version_minor": 0
      },
      "text/plain": [
       "tokenizer_config.json:   0%|          | 0.00/907 [00:00<?, ?B/s]"
      ]
     },
     "metadata": {},
     "output_type": "display_data"
    },
    {
     "data": {
      "application/vnd.jupyter.widget-view+json": {
       "model_id": "0d22f4b3e80045c881752aeb79d500ce",
       "version_major": 2,
       "version_minor": 0
      },
      "text/plain": [
       "vocab.json:   0%|          | 0.00/1.06M [00:00<?, ?B/s]"
      ]
     },
     "metadata": {},
     "output_type": "display_data"
    },
    {
     "data": {
      "application/vnd.jupyter.widget-view+json": {
       "model_id": "85c513f527164c3bb278015e8363f0ae",
       "version_major": 2,
       "version_minor": 0
      },
      "text/plain": [
       "diffusion_pytorch_model.safetensors:   0%|          | 0.00/3.44G [00:00<?, ?B/s]"
      ]
     },
     "metadata": {},
     "output_type": "display_data"
    },
    {
     "data": {
      "application/vnd.jupyter.widget-view+json": {
       "model_id": "6fdc64b732994ee685dacebddd013b05",
       "version_major": 2,
       "version_minor": 0
      },
      "text/plain": [
       "config.json:   0%|          | 0.00/822 [00:00<?, ?B/s]"
      ]
     },
     "metadata": {},
     "output_type": "display_data"
    },
    {
     "data": {
      "application/vnd.jupyter.widget-view+json": {
       "model_id": "d3cc8aa9801840628b67ededac170622",
       "version_major": 2,
       "version_minor": 0
      },
      "text/plain": [
       "diffusion_pytorch_model.safetensors:   0%|          | 0.00/335M [00:00<?, ?B/s]"
      ]
     },
     "metadata": {},
     "output_type": "display_data"
    },
    {
     "data": {
      "application/vnd.jupyter.widget-view+json": {
       "model_id": "1441a32ae0f243d2b7736604762c04b9",
       "version_major": 2,
       "version_minor": 0
      },
      "text/plain": [
       "config.json:   0%|          | 0.00/1.84k [00:00<?, ?B/s]"
      ]
     },
     "metadata": {},
     "output_type": "display_data"
    },
    {
     "data": {
      "application/vnd.jupyter.widget-view+json": {
       "model_id": "f2fc67d6065e4fb4bdd19ded429edc57",
       "version_major": 2,
       "version_minor": 0
      },
      "text/plain": [
       "Loading pipeline components...:   0%|          | 0/7 [00:00<?, ?it/s]"
      ]
     },
     "metadata": {},
     "output_type": "display_data"
    },
    {
     "data": {
      "text/plain": [
       "StableDiffusionPipeline {\n",
       "  \"_class_name\": \"StableDiffusionPipeline\",\n",
       "  \"_diffusers_version\": \"0.33.1\",\n",
       "  \"_name_or_path\": \"sgonzalezygil/sd-finetuning-comparison-ti-v2\",\n",
       "  \"feature_extractor\": [\n",
       "    \"transformers\",\n",
       "    \"CLIPImageProcessor\"\n",
       "  ],\n",
       "  \"image_encoder\": [\n",
       "    null,\n",
       "    null\n",
       "  ],\n",
       "  \"requires_safety_checker\": true,\n",
       "  \"safety_checker\": [\n",
       "    \"stable_diffusion\",\n",
       "    \"StableDiffusionSafetyChecker\"\n",
       "  ],\n",
       "  \"scheduler\": [\n",
       "    \"diffusers\",\n",
       "    \"PNDMScheduler\"\n",
       "  ],\n",
       "  \"text_encoder\": [\n",
       "    \"transformers\",\n",
       "    \"CLIPTextModel\"\n",
       "  ],\n",
       "  \"tokenizer\": [\n",
       "    \"transformers\",\n",
       "    \"CLIPTokenizer\"\n",
       "  ],\n",
       "  \"unet\": [\n",
       "    \"diffusers\",\n",
       "    \"UNet2DConditionModel\"\n",
       "  ],\n",
       "  \"vae\": [\n",
       "    \"diffusers\",\n",
       "    \"AutoencoderKL\"\n",
       "  ]\n",
       "}"
      ]
     },
     "execution_count": 8,
     "metadata": {},
     "output_type": "execute_result"
    }
   ],
   "source": [
    "#@title Pipeline para Textual Inversion\n",
    "pipe_ti = StableDiffusionPipeline.from_pretrained(\"sgonzalezygil/sd-finetuning-comparison-ti-v2\",\n",
    "                                                  torch_dtype=torch.float16)\n",
    "pipe_ti.to(\"cuda\")"
   ]
  },
  {
   "cell_type": "code",
   "execution_count": null,
   "metadata": {
    "colab": {
     "base_uri": "https://localhost:8080/",
     "height": 593,
     "referenced_widgets": [
      "4628febbc40b4c9ba82b0838684be49a",
      "b045a16067224069bde0db45d00edcb6",
      "e76fc02e913e414ebe762fc1fc50589f",
      "5af848b14411445894a1e82061c64ead",
      "e9ac24f62486435d8d9777bd75d8850e",
      "3fdbe09fac4b43c2998968137e20fdea",
      "ed0a400ce11c4fdcb94bc14d7778ad82",
      "d09bdc8bbe1f4752bc4cccdba0bad7d8",
      "a3f63cfd5efa4ddfa7c87005c492f7a6",
      "6fcd8bc4a70446b293d2c15e25d70896",
      "f4f4fd8202b94b75af8465372e22d27f",
      "450b39a76f2b4cbb89d6500077d928a5",
      "4f4e8150c2e5403194093bdcb91faabe",
      "e9011f2d9af2426db82ed25648f15ab0",
      "8827e27c1a6e4cc7ab95da6e4c2a8f75",
      "b3d8a10e0c624829adf896bfab4f9522",
      "0886c861636f41a282803b2073f15942",
      "bdcfadbe2dcc4ffeb9aea9fb51806031",
      "c3709ad9429243199ed2166677c40d61",
      "5234ffa53a4942b382a51b3c6da25bbd",
      "e01ac18d987746df9e5ee1ea0cdd1763",
      "6af80757909641bfbf8f51a17450beef",
      "c5baa867e1264f8a8b3d34d7cbe6e678",
      "b83ea7fb32dd42658af2d7c3a3e1543d",
      "98a122548f8d4200bbcfa2b3a3144985",
      "25b6b1cbd26246adaad0e0af6840a9fe",
      "ee45e28f2db24e7e97dd048c39d7b8c4",
      "66a5429da34948849d27b085a22ef180",
      "d39bf54d634b4da199ab3362d5ff86bb",
      "612cf2ebf55a47ebaf945665e2e25328",
      "c05071aa2dae4f219b3b30dde0ea5e45",
      "242e522f528e4ce2b22b6aacf7d09f24",
      "ff828275556f4c64ba81e5c51d6a187c",
      "808afb17c5b743da9d7fddd228ef8019",
      "98f2796893604a1e8d919dbbfb941f2e",
      "7d9cc9ce5ee84cbea9e8138be10bbbe1",
      "9d2bc23193684f1fb922cbe5e6f88eea",
      "85e2c672e6e046d3b3f30fa20cd0cf7b",
      "169bf9de418245efabc168cc21a2aa23",
      "382cefe33e0a4427b3b43b35baf1f675",
      "119e646b7efa4f119b8d41dc2dc130e7",
      "edd507a3cb954751acc508ee37cf5102",
      "0460de2241c845babbcac578c63d1969",
      "75024651a7f44a9c965cfa2d8bd7e08f",
      "6cc32809856d48caa6aaedf7d0b2e3ad",
      "8fb5f012e990467c82fd968de7757f33",
      "8589957ad72e44f8be4f36fd3a08e998",
      "229ce17042df4e7fbae4a5396db9cbc5",
      "924c5ca4a2a448c2ba6247c5af4a848a",
      "be91b555267f4e30a6e2cabc31a81bf9",
      "77e9a6b311bd4bbfaa5e7b1b7f0ed7d4",
      "ae105f75b6c94543bdeb1d12acd7585e",
      "7813298600c942bb8f6fea5473942629",
      "d5d5b62588984c7292e775ae38782f4c",
      "3f6403a5397a47c1b4d2c5953e64ecdd",
      "5f3c44f2c5574de99e0cb222dc20b568",
      "c3be61457d50459cb642d298a98a1227",
      "5fa2e45a0fcb4859a47db0466026f904",
      "b57a71570cd7442fafb288d5427e0711",
      "bff2ce8ec39a4130ba689349bac247fc",
      "46e25b35158c4ac9b185ef550805e398",
      "825277d5f57442378787b84974120acf",
      "282da9c6acfe45708efeb9c563e7d756",
      "34ab5ddea3814d578815cc0c16fb139b",
      "c223b5c54afe4c199b4dd7041cd61134",
      "bb40c00031d94c4e83e76a1319567fd0",
      "d01000b2f6bc4ac1a1cba14a6740df97",
      "d8296de6f63e412ea596d48ecf1cb14e",
      "3525c71d6f554f2c8a9734176d38acbf",
      "f22f00d38ea6400eb12aba1a9356ace7",
      "b1faf652c0bc4f4fa855eb5c373a7f9b",
      "98fd4717739347298014740e0a1fb1bc",
      "8421c5b034494f20999a0ba94b347d79",
      "88e719a3fe5747258d3a7040292e47fb",
      "0fc005bc09f842feb295983e36f94cbb",
      "ac1a5e16b0654e7d811aed0616f52e5a",
      "94e1c70689cd49c290fe14b2a8bad6af",
      "a4ce69a7ee8a426f88ad4b0c53f15234",
      "31e14304999c449dbd288c5978defc5b",
      "e24a2a7f991745af8621f268bbe2d074",
      "96e91832bd8d46c8b401fccc9eabfe74",
      "25bd6f358383487bafa61bb3b49eecb1",
      "d291a4ec67e24bb38765cb1931416abf",
      "84449b1af8534bcca58606393994a549",
      "9a7b26a1c6ab43348d32df8f1d563d18",
      "4012d1e8079249bf965d07acf8795e96",
      "c89a76b901b94783979a911960d5a4c3",
      "08455e9f80974c34a1123cbbd3fdc395",
      "795e965f90524670999fc09e06d54594",
      "f2e90d381b7f44f29ac1510d9179a0be",
      "ca57bdf6ae094265b9e83b3536010960",
      "fa05e4a012be4436adb0161fb6076300",
      "e788c19baf0246878639636e7209df68",
      "14124043728b409eb81b3b72643e1b8e",
      "8f511106d2014c9a834f39eba8ef306a",
      "70fcf464dfa74c778799597ab0430540",
      "00d0189ec56b4a7f8d5b096e009612b6",
      "a3ca8ff0ccd14cd19cd2cc0f186ec071",
      "c7229e5fed3449b7aef8aa5b13dbf365",
      "6c802d30eb6844c4aabd635d8ca1efea",
      "d11acd520c3c4dbebb90735dad48c4f4",
      "29925583a06f4ea5a6beb9bb760ee7ea",
      "0741e8e82ba94ab4928ce5e840e21e93",
      "389bd0529fdd477389f66b97080bd397",
      "070ceae970ec48b6b332696a2911654b",
      "e5e40fe1f86f497d92edcdbc0c8e969c",
      "0108d5bfcfc442ff889a0c25ae9c9c5f",
      "e82cb412aa0b460ebb2939794bf2c8fa",
      "10553704daa446bcbba02c5d0ff97c59",
      "81ae86427c284bfda67ad97fc1859551",
      "98c0d8d410d44c1082e16e84487bd866",
      "8c3feec42d6c4de69838cad31258793d",
      "83e8c4283e5a46119edfb77644fc8483",
      "965c7c1701c14ae29e6c62c4ce150faa",
      "ff50801afcac4be7aa19e8b98f21ce60",
      "ecdc4eab3ecf4d6dbb1256a155b36f72",
      "7c30361f341d431e818249f26cf57f51",
      "b42745c926f24744a8307767e4a8cdb7",
      "85468b9810b74b4a8070b1baf765b674",
      "80445b6400314724a6ba60fe654777ee",
      "4418d18c1f38465c9dce49d6c661c449",
      "ac9539668db64b649dbc0d021b81d0cf",
      "88c210de65f945cb971df6ba2808767e",
      "258baa41331e4ebc97eb97bbaf87889c",
      "0beba9d9e3bb47149ac41502849e3068",
      "42df3b1d490c4c79bda981239b7b81f7",
      "14003a85bd7f44c38cd8ded6507454e6",
      "275428d9dae94e8d84921080eac8d92a",
      "7d9213a2499245a28d829bc3131ba71a",
      "f6eb5959f6bc42b59f002bfd31b0f36c",
      "ad67d85c013e43089f3b1940d147f834",
      "9e4793af23944c5a9556dcd5fafacc65",
      "c0f234177f7547b9a83f4dcddacdd53c",
      "62c11dc7acf941018f09b3655ad0efe8",
      "055d2ef42f9a4539bc28b5aaa21b301f",
      "0c0f17ef0d11476a8d7dce19f29f9529",
      "8e3f3cf9f77146308e97155594f70582",
      "e9c1c1495bba414a9eb1bed91171b287",
      "3beffd7b8e8b487f8dd826bb65797f6f",
      "bfdc019cc77d4cc1adafa468f178ddbd",
      "4252924a50ce4d108299040e4f4d2630",
      "a1dab594a4674391b08bc1355fa1124b",
      "6f265e7df0454490839a4fbe1b335f9f",
      "7d05a6a8a6dc49f99bf00bdea986584e",
      "808a4868bf81486c970a671ebed13b04",
      "633a57a9e49740238a9178472dc31588",
      "9e7923ae5a7d406cb766afc6f669a700",
      "fb5507df07574aea871aabc2b5fef630",
      "3d88e1c181bd42ab81e7af7f3790ef44",
      "da47b0122ffb4322b2fef69ca6090409",
      "0a9c325449274a078ff06ad74ae37ae5",
      "9c555ce2ff72442c82a6403ad1169c84",
      "04b9232e4c114588b9f1a1213e9cbc12",
      "7e993305e0f940f2ba0b945af7276d56",
      "5d13f1841421436ebcf541764f932349",
      "8965ae240744401bb9ce48a05e6ef1ab",
      "bc97754a00bb4f9ab279137a26892229",
      "c91b7d4f21344ea2bce54b70683ad667",
      "6c4904d6b7ed415fa22527ca3479166d",
      "c7f16b936a544891aeee896f3119b5eb",
      "9ac29d415b5c495ab9dfcae299189867",
      "e4c4618c22d24a75bfc390f390763b29",
      "0986861429b74abc805ed3119bb03e57",
      "d920f270d9994d77a9ca18e2a4ee72ca",
      "fa557754e3974c44a449a16559156a58",
      "38010e72a5804c20b2f83ad2fed95546",
      "c23210b2f011412f91e340e66d713dc3",
      "f7c3e5b21b3942579d46a563dc9dbe74",
      "0857da92b14b4964b83ebe4ed3ab514b",
      "e8fb02a3714943de85292eac0415cd0e",
      "f063ecafe7d94ac89c8713e85086a9a0",
      "eeafeb5f5ccb4070ae9837cb7876616f",
      "7e9a065cc68f41a588a083b24c1bac6d",
      "3939c14c7f7248d1ac86ad237d3db1f3",
      "00bda594e0124968b2ac21dfb7357308",
      "d0f43294235c4b548929dca5694bbf2f",
      "d4f07f9e56874077879fccd177d95dbf",
      "ad413fe53b9b4b4ba3bc33b31697c1d3",
      "1b89c0f82d0246a692a2af05fe0b2a56",
      "29a0e1810d2a47128e1da573f155a869",
      "1f6d937630fd4480893cd7753effb872",
      "2816f2e45de24786bc9899ab9cf7d88b",
      "a5631c9cd8c0469abe36bb0e9115f5ce",
      "cdb0e3f2409e4a6fb2c737ec0954babc",
      "5590639412c6447cb989aed7921b5a00",
      "c5aea6e39b2c4d9588dba6e043e120e9",
      "b0d1a44be16e48ec8b08b2201b2d7966",
      "2c5269505f9844f7b3707969a2809d55",
      "a84e0cc1f92e4b65ab07b5aae02dd3cf",
      "a1f0c85bb2d840e49af31f8a19221c22",
      "f86958739e474a85b9e2740b5d84bf4d",
      "11816195753f46989165ed06a90aef85",
      "fb2029474e7a4677a1225b336d47ace3",
      "de76f321e1dc491f9368318666f24d44",
      "a2dcbc9d0a15456ca70d42f23b7dda0e",
      "3f2f082fdb684e9886ad5ba073359aa2",
      "c72541ffc79d47d1b42f80f2d406ec19",
      "8d0d48bcf5004655bfcf0362ae2d605f"
     ]
    },
    "id": "9tgUxYxZr8jt",
    "outputId": "6b305a03-0a09-4ad0-9ff7-b5587ebdc50f"
   },
   "outputs": [
    {
     "data": {
      "application/vnd.jupyter.widget-view+json": {
       "model_id": "4628febbc40b4c9ba82b0838684be49a",
       "version_major": 2,
       "version_minor": 0
      },
      "text/plain": [
       "model_index.json:   0%|          | 0.00/541 [00:00<?, ?B/s]"
      ]
     },
     "metadata": {},
     "output_type": "display_data"
    },
    {
     "data": {
      "application/vnd.jupyter.widget-view+json": {
       "model_id": "450b39a76f2b4cbb89d6500077d928a5",
       "version_major": 2,
       "version_minor": 0
      },
      "text/plain": [
       "Fetching 15 files:   0%|          | 0/15 [00:00<?, ?it/s]"
      ]
     },
     "metadata": {},
     "output_type": "display_data"
    },
    {
     "data": {
      "application/vnd.jupyter.widget-view+json": {
       "model_id": "c5baa867e1264f8a8b3d34d7cbe6e678",
       "version_major": 2,
       "version_minor": 0
      },
      "text/plain": [
       "model.safetensors:   0%|          | 0.00/1.22G [00:00<?, ?B/s]"
      ]
     },
     "metadata": {},
     "output_type": "display_data"
    },
    {
     "data": {
      "application/vnd.jupyter.widget-view+json": {
       "model_id": "808afb17c5b743da9d7fddd228ef8019",
       "version_major": 2,
       "version_minor": 0
      },
      "text/plain": [
       "model.safetensors:   0%|          | 0.00/492M [00:00<?, ?B/s]"
      ]
     },
     "metadata": {},
     "output_type": "display_data"
    },
    {
     "data": {
      "application/vnd.jupyter.widget-view+json": {
       "model_id": "6cc32809856d48caa6aaedf7d0b2e3ad",
       "version_major": 2,
       "version_minor": 0
      },
      "text/plain": [
       "preprocessor_config.json:   0%|          | 0.00/342 [00:00<?, ?B/s]"
      ]
     },
     "metadata": {},
     "output_type": "display_data"
    },
    {
     "data": {
      "application/vnd.jupyter.widget-view+json": {
       "model_id": "5f3c44f2c5574de99e0cb222dc20b568",
       "version_major": 2,
       "version_minor": 0
      },
      "text/plain": [
       "scheduler_config.json:   0%|          | 0.00/308 [00:00<?, ?B/s]"
      ]
     },
     "metadata": {},
     "output_type": "display_data"
    },
    {
     "data": {
      "application/vnd.jupyter.widget-view+json": {
       "model_id": "d01000b2f6bc4ac1a1cba14a6740df97",
       "version_major": 2,
       "version_minor": 0
      },
      "text/plain": [
       "special_tokens_map.json:   0%|          | 0.00/472 [00:00<?, ?B/s]"
      ]
     },
     "metadata": {},
     "output_type": "display_data"
    },
    {
     "data": {
      "application/vnd.jupyter.widget-view+json": {
       "model_id": "a4ce69a7ee8a426f88ad4b0c53f15234",
       "version_major": 2,
       "version_minor": 0
      },
      "text/plain": [
       "config.json:   0%|          | 0.00/617 [00:00<?, ?B/s]"
      ]
     },
     "metadata": {},
     "output_type": "display_data"
    },
    {
     "data": {
      "application/vnd.jupyter.widget-view+json": {
       "model_id": "795e965f90524670999fc09e06d54594",
       "version_major": 2,
       "version_minor": 0
      },
      "text/plain": [
       "merges.txt:   0%|          | 0.00/525k [00:00<?, ?B/s]"
      ]
     },
     "metadata": {},
     "output_type": "display_data"
    },
    {
     "data": {
      "application/vnd.jupyter.widget-view+json": {
       "model_id": "6c802d30eb6844c4aabd635d8ca1efea",
       "version_major": 2,
       "version_minor": 0
      },
      "text/plain": [
       "config.json:   0%|          | 0.00/4.72k [00:00<?, ?B/s]"
      ]
     },
     "metadata": {},
     "output_type": "display_data"
    },
    {
     "data": {
      "application/vnd.jupyter.widget-view+json": {
       "model_id": "98c0d8d410d44c1082e16e84487bd866",
       "version_major": 2,
       "version_minor": 0
      },
      "text/plain": [
       "diffusion_pytorch_model.safetensors:   0%|          | 0.00/3.44G [00:00<?, ?B/s]"
      ]
     },
     "metadata": {},
     "output_type": "display_data"
    },
    {
     "data": {
      "application/vnd.jupyter.widget-view+json": {
       "model_id": "ac9539668db64b649dbc0d021b81d0cf",
       "version_major": 2,
       "version_minor": 0
      },
      "text/plain": [
       "config.json:   0%|          | 0.00/743 [00:00<?, ?B/s]"
      ]
     },
     "metadata": {},
     "output_type": "display_data"
    },
    {
     "data": {
      "application/vnd.jupyter.widget-view+json": {
       "model_id": "c0f234177f7547b9a83f4dcddacdd53c",
       "version_major": 2,
       "version_minor": 0
      },
      "text/plain": [
       "vocab.json:   0%|          | 0.00/1.06M [00:00<?, ?B/s]"
      ]
     },
     "metadata": {},
     "output_type": "display_data"
    },
    {
     "data": {
      "application/vnd.jupyter.widget-view+json": {
       "model_id": "7d05a6a8a6dc49f99bf00bdea986584e",
       "version_major": 2,
       "version_minor": 0
      },
      "text/plain": [
       "tokenizer_config.json:   0%|          | 0.00/806 [00:00<?, ?B/s]"
      ]
     },
     "metadata": {},
     "output_type": "display_data"
    },
    {
     "data": {
      "application/vnd.jupyter.widget-view+json": {
       "model_id": "5d13f1841421436ebcf541764f932349",
       "version_major": 2,
       "version_minor": 0
      },
      "text/plain": [
       "config.json:   0%|          | 0.00/547 [00:00<?, ?B/s]"
      ]
     },
     "metadata": {},
     "output_type": "display_data"
    },
    {
     "data": {
      "application/vnd.jupyter.widget-view+json": {
       "model_id": "38010e72a5804c20b2f83ad2fed95546",
       "version_major": 2,
       "version_minor": 0
      },
      "text/plain": [
       "diffusion_pytorch_model.safetensors:   0%|          | 0.00/335M [00:00<?, ?B/s]"
      ]
     },
     "metadata": {},
     "output_type": "display_data"
    },
    {
     "data": {
      "application/vnd.jupyter.widget-view+json": {
       "model_id": "d4f07f9e56874077879fccd177d95dbf",
       "version_major": 2,
       "version_minor": 0
      },
      "text/plain": [
       "Loading pipeline components...:   0%|          | 0/7 [00:00<?, ?it/s]"
      ]
     },
     "metadata": {},
     "output_type": "display_data"
    },
    {
     "data": {
      "application/vnd.jupyter.widget-view+json": {
       "model_id": "2c5269505f9844f7b3707969a2809d55",
       "version_major": 2,
       "version_minor": 0
      },
      "text/plain": [
       "zapatillasLoRA-06.safetensors:   0%|          | 0.00/19.0M [00:00<?, ?B/s]"
      ]
     },
     "metadata": {},
     "output_type": "display_data"
    }
   ],
   "source": [
    "#@title Pipeline para LoRA\n",
    "pipe_lora = StableDiffusionPipeline.from_pretrained(\"runwayml/stable-diffusion-v1-5\",\n",
    "                                                    torch_dtype=torch.float16).to(\"cuda\")\n",
    "\n",
    "# Cargar LoRA usando compatibilidad con Diffusers:\n",
    "pipe_lora.load_lora_weights(\"sgonzalezygil/sd-finetuning-lora-v2\",\n",
    "                            weight_name=\"zapatillasLoRA-06.safetensors\")\n",
    "pipe_lora.fuse_lora()"
   ]
  },
  {
   "cell_type": "code",
   "execution_count": null,
   "metadata": {
    "colab": {
     "base_uri": "https://localhost:8080/",
     "height": 1000,
     "referenced_widgets": [
      "ed562f11f8974c1fa19131e70cb2e9d7",
      "6482670a31ae44378091437c31f95b7d",
      "c3c3589ae1b44e888584911bc55e22e0",
      "763137c4ee06488788b283d16f54e74b",
      "235d261fb8204533a5802b513eba5bb6",
      "8b7a17ea60cd4483adb5e8256f8a6675",
      "3b60d99d63544aa3809539f6bdacf40e",
      "eef7f7ec081d44528e570645dd4c7a24",
      "93f4f348957447d8a94e3884019cd50d",
      "a4bf5498e1cf4d348336d8f3aa07ca37",
      "c5d4ae6a92b543a6967c7edd812e3180",
      "1af7b4e003ba4e63b1e49d5df1cd5225",
      "d77804ad0b7248be8ca7a2147adca98e",
      "4d57efa11abd4901b9ce43e8c28ff01d",
      "a346ec58d21c4293bcc28b8321109ee4",
      "647ae1e2dce14055889947d23b1fd738",
      "a737f3d9441b400395ea424848ca1af4",
      "cf53ddeb85e24ceb81e4f41965024d65",
      "326356698cec4f4c97f53f2fdeb9e058",
      "4b8018a119cc44f48a59ab87966e77ef",
      "90f5778a617a45fea8864e028857d5a0",
      "15421827576a40108658c211f280a83a",
      "ce815b5485fe4151b2e841bb80dc0db4",
      "3fc1a0f10abe4e329b09bbd51e5890c8",
      "ace9f87741304f8391007bc0b8e85a10",
      "5ec6ea15292d42b0b2b12270936b39d5",
      "4a69a6710ddc42b980c6d765c114faf6",
      "ffe35a12bae94ead931982acaf429b59",
      "23bb6e95fea6454ba302c215149fdcaa",
      "42b347fc0b2d4643896d707abe0a1157",
      "db86c78a6eae4945b08a14dde2892f9e",
      "e3a5b179eac34c8f93af365962f8f723",
      "fd8981b112814040a7fe9a3ed1713e8b",
      "5fb3f5a72349426393d906afce88f8a5",
      "1573a22d6e7d4be8ad341d2c3e3b9104",
      "bdb64f7cb1be448d872babd422f4d188",
      "f59cddf10422461387cd9d8d82dd6dce",
      "07c7980937214c6b990985b10937494a",
      "c1c3f66230f24078a19c63d845e65594",
      "0dd228cf268341ed8d1205a8c18717f8",
      "21c7a2a931ed4a91969283d08bb80616",
      "9e14ae7bcf604ff8b586f0ef40f4a212",
      "3e1491912cd3487ba3769468dec3258e",
      "c9652f960b894dda869d338d16a729bd",
      "dd3fdb341ab64ffd86d7bcc4f87b9358",
      "c9dd97da7b26426d8d4e07b7b1c74645",
      "a4f2c9489b7c403aa887d7ddf17bd596",
      "359fb962dc6b473397b806a98a2d66ef",
      "482604a9b91d4ad794792461620f742e",
      "b14abd5f18ce4a2da9b7a657dc25d97d",
      "4330a4ad66614d4a951f5ba62f16d66b",
      "51402fd6255440bd82ca4408f4d95100",
      "7ec0c9a41fa74c9fb8e45a043cc638bf",
      "7b3caf97db9f46ef9b122c74bee4fe7a",
      "60e9f96faf23465bbc580fdd9dc40b9d",
      "03e9037a9890434d8c87756c0bc49323",
      "9ad69ec4701541fa8c648ddf04d19af3",
      "97eb9a2598c54a94b448b2a402c84d33",
      "66d7355558104689820a062823b28729",
      "01c5ed87ac20458d87d975572bf41d19",
      "8fe8fdc3a5544263bc86c701a890abf7",
      "d6d49a2d76ba4348ab50f02f4bc787d5",
      "97cd948b91894c64bdb5932ca2f2261a",
      "817141d93a254c50a098d7420411a35b",
      "afac9a26b40f4bf8889704c551c61707",
      "6d21c87303704738841b885eb414afae",
      "c5871aab6ee14438ae5af677c1c6907e",
      "37507ce33d6b4464a6b0ce2ee4a2da02",
      "89dac3164ed84d3f9b8a832cb5a64d0c",
      "c0d9e7d5281a44cfa6d1a69ce2b232a6",
      "a3fb4c11e08341f9aaf7947cbbeb8af6",
      "328955d23a374df7a82ab705f1ad5b68",
      "f9be459e5cc24807b8be6bc5f8ca540e",
      "84f46d9b7edf4d3f88cd16d79668e566",
      "2cf1bf9708384c84be165fd2400b1761",
      "8cf7376f5d4a4f3eb35b5de4af3d497c",
      "e0abff45040b409295479ef9a0da67ab",
      "9ca53b0d6a174bd0b81c51baf281229b",
      "159d80b085f44d2a810bfa0fb440bcdb",
      "7debd29c9a624ffc91c7aac5c8a65fa0",
      "640730af0609470492a66b396b7c8a31",
      "bc37f78519ee4c258f10f58445094aa0",
      "4badb4b7774242b683f1e88335b806a7",
      "8d8dc4334b2c477abe54ab6752e2edd2",
      "37d1ef67e2aa42bfad5c7f4a3136c49a",
      "0287b0f5295f475595ade965f4c2ab52",
      "b274154a25274307b72399ec36b8f0ed",
      "488b2121b1bd4b44b5fbcbca84a1e87e",
      "ad000e4f6f594185b51e2dd387eba570",
      "4c3c311d23544a25a18b1f79cbb8560a",
      "dd93610f19974cc88b5963f346dc3f7c",
      "54f2e740a02345acabd3615a4e5f1cba",
      "1ec506e81de6475c998271a54dead879",
      "43695ee536ea4646a578cd51c3705152",
      "79b09bb0b8a0444392c99c78333897d9",
      "e8d10024fef74ac981c2d78507d23f80",
      "0722e71514fb4590bb153b82c4112def",
      "66f1d3c04b4543a0a25ec2f05d2dd9ac",
      "7d3c3f3ebb014895b0a960ccb47a0da8",
      "c316d64499324d07bdd7a5719289fe46",
      "c044455b52464213bacb8b8af0f7952c",
      "c353eedceb8f4e5cb8bda149e92d289c",
      "2e22bea5e2804d78ae6e9aad556c0af4",
      "121cdc22231a47ee85c0ca925bf9e05a",
      "c66c556669544b97b32275b3702ca256",
      "689cf549348f4c6e8326c68028f1632e",
      "854d806ce2ea4c718fbb49a3e6fa2819",
      "42d1fdb0a8ea438aa589f23a97ca39a4",
      "0e1f674602264f0887b2f31c859aa6f4",
      "70083325c819432086c30bcdf0709ed6",
      "6a3860f5b15b4d829655be164e02eeb6",
      "e40698ef3d724eb3b5393e14229863f2",
      "72dd7a18297045e5b34cc4b876039e79",
      "f447b26fcb9c46e1a491d458e8ecae71",
      "49974c0f8030458abcdd5e8b074a29a7",
      "09c289c1bf6d4526a4189f6409a6b0ae",
      "76fb364f30da4f70a3da4cb0a7e09ea3",
      "f56da6b3b2fa4a68b54a54088b349c53",
      "3f97d6919c4d4091a35f7080939cd9a3",
      "5ec46ddb6fd543c7a82b30630a7c1acf",
      "d55cee6b03944110a57caad71022a7c7",
      "e70c8e1be03f40c3bc7c3470b2bfd684",
      "326413a176cf4d7e9af0373d74e4aa8c",
      "9e1635caa72d412199df6f0ed347496e",
      "73ae2f3171e046fead9cdb74d10f8ebc",
      "a1151748bd574651b1217bf89494f892",
      "b1cbeb7c006445089fefa12e4e7a1fcb",
      "fd01799c806840c098be8d92886eee7b",
      "87a734a204e24cb59dea5ff35d18e10d",
      "bcd1b3c2680a4e78b0288f73c560241e",
      "2aca0b6c41ad47ae9f49b84d852ad532",
      "aaf6e572f19b401db7111618fc64635b",
      "ccf147ebae024c08880e700a6abdc1ac",
      "4e7aeef54e5f475aa2d0e8bb587d970c",
      "5cc377d305a344ef96f9ccb9a83aa78a",
      "22b671f817b7433eb40ced973b2711bc",
      "5b90d10c097b4f3aa233cf465707180d",
      "6b55b08e29a64346a349ba81a61f1587",
      "baf61595f11040a09feb3b86022ef2e9",
      "3d03a3423d934a8ea2ef384013cde221",
      "2bb8024132064d68bccc84a466726868",
      "898b403d882747a09673010e0dd7ea24",
      "688446a389f04b06ad3ef562d80f4287",
      "0abe2fb84ab34d11bd9b11a253c90dec",
      "bd7ea25312074a90b28e97d896efef4d",
      "8eee12685fd04673a84a5d74c7707761",
      "8da2f50f93224b989e07d09e732924d7",
      "80eacd8f3ff2460faa974af63dbe5abe",
      "d3ea375d3a9a44b9a05f7cf76f20351c",
      "fe106168b24e47d09bfd39472fbba098",
      "a2d5a69498944ee18161f1730d881608",
      "5643d89588b54e45b5f5c66e11405f04",
      "96ab8f946d7b47039e55287eb69e0d5d",
      "fd4714dd2554426a8eecd9d8393dbfda",
      "bfc4a6362410401eac8f107dd331aa8e",
      "8665620667e247c3a382a946d2875308",
      "141034c94f41469e8ae5a779c5edb5fa",
      "d05f5bc536f84b6d954240e1b7310f83",
      "e652d06929bc47e7adb70defac19e33e",
      "a358b0392e9e48cfbd8dd95cebf07876",
      "cd2c684324934db38d0cd5a29a233f3b",
      "0e731a5453364fa5afc7535e50dc8b38",
      "89919688e6e645a39e9edb04fb94b4fb",
      "717ce2e6cf3b4bda920169ca0da01ca4",
      "6972d01654fe47aab3887ecb3a7e26ba"
     ]
    },
    "id": "2FY02PrCr8ej",
    "outputId": "651e3a5e-9c00-47ea-a0c0-95f432c69dd4"
   },
   "outputs": [
    {
     "data": {
      "application/vnd.jupyter.widget-view+json": {
       "model_id": "ed562f11f8974c1fa19131e70cb2e9d7",
       "version_major": 2,
       "version_minor": 0
      },
      "text/plain": [
       "model_index.json:   0%|          | 0.00/643 [00:00<?, ?B/s]"
      ]
     },
     "metadata": {},
     "output_type": "display_data"
    },
    {
     "data": {
      "application/vnd.jupyter.widget-view+json": {
       "model_id": "1af7b4e003ba4e63b1e49d5df1cd5225",
       "version_major": 2,
       "version_minor": 0
      },
      "text/plain": [
       "Fetching 13 files:   0%|          | 0/13 [00:00<?, ?it/s]"
      ]
     },
     "metadata": {},
     "output_type": "display_data"
    },
    {
     "data": {
      "application/vnd.jupyter.widget-view+json": {
       "model_id": "ce815b5485fe4151b2e841bb80dc0db4",
       "version_major": 2,
       "version_minor": 0
      },
      "text/plain": [
       "preprocessor_config.json:   0%|          | 0.00/466 [00:00<?, ?B/s]"
      ]
     },
     "metadata": {},
     "output_type": "display_data"
    },
    {
     "data": {
      "application/vnd.jupyter.widget-view+json": {
       "model_id": "5fb3f5a72349426393d906afce88f8a5",
       "version_major": 2,
       "version_minor": 0
      },
      "text/plain": [
       "scheduler_config.json:   0%|          | 0.00/528 [00:00<?, ?B/s]"
      ]
     },
     "metadata": {},
     "output_type": "display_data"
    },
    {
     "data": {
      "application/vnd.jupyter.widget-view+json": {
       "model_id": "dd3fdb341ab64ffd86d7bcc4f87b9358",
       "version_major": 2,
       "version_minor": 0
      },
      "text/plain": [
       "config.json:   0%|          | 0.00/560 [00:00<?, ?B/s]"
      ]
     },
     "metadata": {},
     "output_type": "display_data"
    },
    {
     "data": {
      "application/vnd.jupyter.widget-view+json": {
       "model_id": "03e9037a9890434d8c87756c0bc49323",
       "version_major": 2,
       "version_minor": 0
      },
      "text/plain": [
       "tokenizer_config.json:   0%|          | 0.00/735 [00:00<?, ?B/s]"
      ]
     },
     "metadata": {},
     "output_type": "display_data"
    },
    {
     "data": {
      "application/vnd.jupyter.widget-view+json": {
       "model_id": "c5871aab6ee14438ae5af677c1c6907e",
       "version_major": 2,
       "version_minor": 0
      },
      "text/plain": [
       "special_tokens_map.json:   0%|          | 0.00/585 [00:00<?, ?B/s]"
      ]
     },
     "metadata": {},
     "output_type": "display_data"
    },
    {
     "data": {
      "application/vnd.jupyter.widget-view+json": {
       "model_id": "9ca53b0d6a174bd0b81c51baf281229b",
       "version_major": 2,
       "version_minor": 0
      },
      "text/plain": [
       "model.safetensors:   0%|          | 0.00/246M [00:00<?, ?B/s]"
      ]
     },
     "metadata": {},
     "output_type": "display_data"
    },
    {
     "data": {
      "application/vnd.jupyter.widget-view+json": {
       "model_id": "ad000e4f6f594185b51e2dd387eba570",
       "version_major": 2,
       "version_minor": 0
      },
      "text/plain": [
       "merges.txt:   0%|          | 0.00/525k [00:00<?, ?B/s]"
      ]
     },
     "metadata": {},
     "output_type": "display_data"
    },
    {
     "data": {
      "application/vnd.jupyter.widget-view+json": {
       "model_id": "c316d64499324d07bdd7a5719289fe46",
       "version_major": 2,
       "version_minor": 0
      },
      "text/plain": [
       "vocab.json:   0%|          | 0.00/1.06M [00:00<?, ?B/s]"
      ]
     },
     "metadata": {},
     "output_type": "display_data"
    },
    {
     "data": {
      "application/vnd.jupyter.widget-view+json": {
       "model_id": "6a3860f5b15b4d829655be164e02eeb6",
       "version_major": 2,
       "version_minor": 0
      },
      "text/plain": [
       "config.json:   0%|          | 0.00/1.84k [00:00<?, ?B/s]"
      ]
     },
     "metadata": {},
     "output_type": "display_data"
    },
    {
     "data": {
      "application/vnd.jupyter.widget-view+json": {
       "model_id": "e70c8e1be03f40c3bc7c3470b2bfd684",
       "version_major": 2,
       "version_minor": 0
      },
      "text/plain": [
       "diffusion_pytorch_model.safetensors:   0%|          | 0.00/1.72G [00:00<?, ?B/s]"
      ]
     },
     "metadata": {},
     "output_type": "display_data"
    },
    {
     "data": {
      "application/vnd.jupyter.widget-view+json": {
       "model_id": "ccf147ebae024c08880e700a6abdc1ac",
       "version_major": 2,
       "version_minor": 0
      },
      "text/plain": [
       "config.json:   0%|          | 0.00/829 [00:00<?, ?B/s]"
      ]
     },
     "metadata": {},
     "output_type": "display_data"
    },
    {
     "data": {
      "application/vnd.jupyter.widget-view+json": {
       "model_id": "0abe2fb84ab34d11bd9b11a253c90dec",
       "version_major": 2,
       "version_minor": 0
      },
      "text/plain": [
       "diffusion_pytorch_model.safetensors:   0%|          | 0.00/167M [00:00<?, ?B/s]"
      ]
     },
     "metadata": {},
     "output_type": "display_data"
    },
    {
     "data": {
      "application/vnd.jupyter.widget-view+json": {
       "model_id": "bfc4a6362410401eac8f107dd331aa8e",
       "version_major": 2,
       "version_minor": 0
      },
      "text/plain": [
       "Loading pipeline components...:   0%|          | 0/6 [00:00<?, ?it/s]"
      ]
     },
     "metadata": {},
     "output_type": "display_data"
    },
    {
     "name": "stderr",
     "output_type": "stream",
     "text": [
      "You have disabled the safety checker for <class 'diffusers.pipelines.stable_diffusion.pipeline_stable_diffusion.StableDiffusionPipeline'> by passing `safety_checker=None`. Ensure that you abide to the conditions of the Stable Diffusion license and do not expose unfiltered results in services or applications open to the public. Both the diffusers team and Hugging Face strongly recommend to keep the safety filter enabled in all public facing circumstances, disabling it only for use-cases that involve analyzing network behavior or auditing its results. For more information, please have a look at https://github.com/huggingface/diffusers/pull/254 .\n"
     ]
    },
    {
     "data": {
      "text/plain": [
       "StableDiffusionPipeline {\n",
       "  \"_class_name\": \"StableDiffusionPipeline\",\n",
       "  \"_diffusers_version\": \"0.33.1\",\n",
       "  \"_name_or_path\": \"sgonzalezygil/sd-finetuning-dreambooth\",\n",
       "  \"feature_extractor\": [\n",
       "    \"transformers\",\n",
       "    \"CLIPImageProcessor\"\n",
       "  ],\n",
       "  \"image_encoder\": [\n",
       "    null,\n",
       "    null\n",
       "  ],\n",
       "  \"requires_safety_checker\": true,\n",
       "  \"safety_checker\": [\n",
       "    null,\n",
       "    null\n",
       "  ],\n",
       "  \"scheduler\": [\n",
       "    \"diffusers\",\n",
       "    \"DDIMScheduler\"\n",
       "  ],\n",
       "  \"text_encoder\": [\n",
       "    \"transformers\",\n",
       "    \"CLIPTextModel\"\n",
       "  ],\n",
       "  \"tokenizer\": [\n",
       "    \"transformers\",\n",
       "    \"CLIPTokenizer\"\n",
       "  ],\n",
       "  \"unet\": [\n",
       "    \"diffusers\",\n",
       "    \"UNet2DConditionModel\"\n",
       "  ],\n",
       "  \"vae\": [\n",
       "    \"diffusers\",\n",
       "    \"AutoencoderKL\"\n",
       "  ]\n",
       "}"
      ]
     },
     "execution_count": 10,
     "metadata": {},
     "output_type": "execute_result"
    }
   ],
   "source": [
    "#@title Pipeline para Dreambooth\n",
    "pipe_db = StableDiffusionPipeline.from_pretrained(\"sgonzalezygil/sd-finetuning-dreambooth\",\n",
    "                                                  torch_dtype=torch.float16)\n",
    "pipe_db.to(\"cuda\")"
   ]
  },
  {
   "cell_type": "markdown",
   "metadata": {
    "id": "zz-cunJ7mbVv"
   },
   "source": [
    "## Inicio de la generación y evaluación"
   ]
  },
  {
   "cell_type": "code",
   "execution_count": null,
   "metadata": {
    "id": "n1fQ198AheG2"
   },
   "outputs": [],
   "source": [
    "# Parámetros base\n",
    "# num_samples = 3\n",
    "# num_rows = 1\n",
    "# height = 512\n",
    "# width = 512\n",
    "# guidance_scale = 7.5\n",
    "# num_inference_steps = 50"
   ]
  },
  {
   "cell_type": "markdown",
   "metadata": {
    "id": "dBkrrO9xw0fy"
   },
   "source": [
    "### **Fidelidad**"
   ]
  },
  {
   "cell_type": "code",
   "execution_count": null,
   "metadata": {
    "id": "PgMSlu7brcDa"
   },
   "outputs": [],
   "source": [
    "clip_fidelidad_ti = generate_images(\n",
    "    prompts=prompts_fidelidad,\n",
    "    names_export=[i + \"_TI\" for i in names_export_fidelidad],\n",
    "    negative_prompts=negative_prompts_fidelidad,\n",
    "    pipe=pipe_ti\n",
    "    )\n",
    "\n",
    "print(clip_fidelidad_ti)"
   ]
  },
  {
   "cell_type": "code",
   "execution_count": null,
   "metadata": {
    "id": "7WZ27ISWsWKR"
   },
   "outputs": [],
   "source": [
    "clip_fidelidad_lora = generate_images(\n",
    "    prompts=prompts_fidelidad,\n",
    "    names_export=[i + \"_LoRA\" for i in names_export_fidelidad],\n",
    "    negative_prompts=negative_prompts_fidelidad,\n",
    "    pipe=pipe_lora\n",
    "    )\n",
    "\n",
    "print(clip_fidelidad_lora)"
   ]
  },
  {
   "cell_type": "code",
   "execution_count": null,
   "metadata": {
    "id": "lzjA89lQsWDa"
   },
   "outputs": [],
   "source": [
    "clip_fidelidad_db = generate_images(\n",
    "    prompts=prompts_fidelidad,\n",
    "    names_export=[i + \"_DB\" for i in names_export_fidelidad],\n",
    "    negative_prompts=negative_prompts_fidelidad,\n",
    "    pipe=pipe_db\n",
    "    )\n",
    "\n",
    "print(clip_fidelidad_db)"
   ]
  },
  {
   "cell_type": "markdown",
   "metadata": {
    "id": "kpbd8V5l5n49"
   },
   "source": [
    "### **Robustez**"
   ]
  },
  {
   "cell_type": "code",
   "execution_count": null,
   "metadata": {
    "id": "m2Z1UFYg5nCP"
   },
   "outputs": [],
   "source": [
    "clip_robustez_ti = generate_images(\n",
    "    prompts=prompts_robustez,\n",
    "    names_export=[i + \"_TI\" for i in names_export_robustez],\n",
    "    negative_prompts=negative_prompts_robustez,\n",
    "    pipe=pipe_ti\n",
    "    )\n",
    "\n",
    "print(clip_robustez_ti)"
   ]
  },
  {
   "cell_type": "code",
   "execution_count": null,
   "metadata": {
    "id": "dxBVEeFCuGRn"
   },
   "outputs": [],
   "source": [
    "clip_robustez_lora = generate_images(\n",
    "    prompts=prompts_robustez,\n",
    "    names_export=[i + \"_LoRA\" for i in names_export_robustez],\n",
    "    negative_prompts=negative_prompts_robustez,\n",
    "    pipe=pipe_lora\n",
    "    )\n",
    "\n",
    "print(clip_robustez_lora)"
   ]
  },
  {
   "cell_type": "code",
   "execution_count": null,
   "metadata": {
    "id": "jKwZNNH2uGNl"
   },
   "outputs": [],
   "source": [
    "clip_robustez_db = generate_images(\n",
    "    prompts=prompts_robustez,\n",
    "    names_export=[i + \"_DB\" for i in names_export_robustez],\n",
    "    negative_prompts=negative_prompts_robustez,\n",
    "    pipe=pipe_db\n",
    "    )\n",
    "\n",
    "print(clip_robustez_db)"
   ]
  },
  {
   "cell_type": "markdown",
   "metadata": {
    "id": "oi4QrD4f-Xt4"
   },
   "source": [
    "### **Adaptabilidad estilística**"
   ]
  },
  {
   "cell_type": "code",
   "execution_count": null,
   "metadata": {
    "id": "ijM6Vx_Z8nGW"
   },
   "outputs": [],
   "source": [
    "clip_estilos_ti = generate_images(\n",
    "    prompts=prompts_estilos,\n",
    "    names_export=[i + \"_TI\" for i in names_export_estilos],\n",
    "    negative_prompts=negative_prompts_estilos,\n",
    "    pipe=pipe_ti\n",
    "    )\n",
    "\n",
    "print(clip_estilos_ti)"
   ]
  },
  {
   "cell_type": "code",
   "execution_count": null,
   "metadata": {
    "id": "BQD6OxyuubHC"
   },
   "outputs": [],
   "source": [
    "clip_estilos_lora = generate_images(\n",
    "    prompts=prompts_estilos,\n",
    "    names_export=[i + \"_LoRA\" for i in names_export_estilos],\n",
    "    negative_prompts=negative_prompts_estilos,\n",
    "    pipe=pipe_lora\n",
    "    )\n",
    "\n",
    "print(clip_estilos_lora)"
   ]
  },
  {
   "cell_type": "code",
   "execution_count": null,
   "metadata": {
    "id": "FuBg473cubB7"
   },
   "outputs": [],
   "source": [
    "clip_estilos_db = generate_images(\n",
    "    prompts=prompts_estilos,\n",
    "    names_export=[i + \"_DB\" for i in names_export_estilos],\n",
    "    negative_prompts=negative_prompts_estilos,\n",
    "    pipe=pipe_db\n",
    "    )\n",
    "\n",
    "print(clip_estilos_db)"
   ]
  },
  {
   "cell_type": "markdown",
   "metadata": {
    "id": "ZGVEpLgr-lCc"
   },
   "source": [
    "### **Creatividad**"
   ]
  },
  {
   "cell_type": "code",
   "execution_count": null,
   "metadata": {
    "id": "EsHHzwhH-uoO"
   },
   "outputs": [],
   "source": [
    "clip_creatividad_ti = generate_images(\n",
    "    prompts=prompts_creatividad,\n",
    "    names_export=[i + \"_TI\" for i in names_export_creatividad],\n",
    "    negative_prompts=negative_prompts_creatividad,\n",
    "    pipe=pipe_ti\n",
    "    )\n",
    "\n",
    "print(clip_creatividad_ti)"
   ]
  },
  {
   "cell_type": "code",
   "execution_count": null,
   "metadata": {
    "id": "TTfMRBEBwAcp"
   },
   "outputs": [],
   "source": [
    "clip_creatividad_lora = generate_images(\n",
    "    prompts=prompts_creatividad,\n",
    "    names_export=[i + \"_LoRA\" for i in names_export_creatividad],\n",
    "    negative_prompts=negative_prompts_creatividad,\n",
    "    pipe=pipe_lora\n",
    "    )\n",
    "\n",
    "print(clip_creatividad_lora)"
   ]
  },
  {
   "cell_type": "code",
   "execution_count": null,
   "metadata": {
    "id": "HODQC21LwAVI"
   },
   "outputs": [],
   "source": [
    "clip_creatividad_db = generate_images(\n",
    "    prompts=prompts_creatividad,\n",
    "    names_export=[i + \"_DB\" for i in names_export_creatividad],\n",
    "    negative_prompts=negative_prompts_creatividad,\n",
    "    pipe=pipe_db\n",
    "    )\n",
    "\n",
    "print(clip_creatividad_db)"
   ]
  },
  {
   "cell_type": "markdown",
   "metadata": {
    "id": "4hBfPPy8JQGr"
   },
   "source": [
    "## Tablas resumen"
   ]
  },
  {
   "cell_type": "code",
   "execution_count": null,
   "metadata": {
    "id": "QA1dMeC6QRqn"
   },
   "outputs": [],
   "source": [
    "import pandas as pd\n",
    "fidelidad = [clip_fidelidad_ti[0], clip_fidelidad_lora[0], clip_fidelidad_db[0]]\n",
    "robustez = [clip_robustez_ti[0], clip_robustez_lora[0], clip_robustez_db[0]]\n",
    "estilos = [clip_estilos_ti[0], clip_estilos_lora[0], clip_estilos_db[0]]\n",
    "creatividad = [clip_creatividad_ti[0], clip_creatividad_lora[0], clip_creatividad_db[0]]\n",
    "df = pd.DataFrame({\n",
    "    \"Fidelidad\": fidelidad,\n",
    "    \"Robustez\": robustez,\n",
    "    \"Adaptabilidad estilística\": estilos,\n",
    "    \"Creatividad\": creatividad\n",
    "\n",
    "})\n",
    "\n",
    "df[\"Promedio\"] = df.mean(axis=1)\n",
    "df.index=[\"Textual Inversion\", \"LoRA\", \"DreamBooth\"]"
   ]
  },
  {
   "cell_type": "code",
   "execution_count": null,
   "metadata": {
    "colab": {
     "base_uri": "https://localhost:8080/",
     "height": 143
    },
    "id": "7Wsfwv-lgMBc",
    "outputId": "20d7cb12-c30d-4f97-fe2a-0b830b086137"
   },
   "outputs": [
    {
     "data": {
      "application/vnd.google.colaboratory.intrinsic+json": {
       "summary": "{\n  \"name\": \"df\",\n  \"rows\": 3,\n  \"fields\": [\n    {\n      \"column\": \"Fidelidad\",\n      \"properties\": {\n        \"dtype\": \"object\",\n        \"semantic_type\": \"\",\n        \"description\": \"\"\n      }\n    },\n    {\n      \"column\": \"Robustez\",\n      \"properties\": {\n        \"dtype\": \"object\",\n        \"semantic_type\": \"\",\n        \"description\": \"\"\n      }\n    },\n    {\n      \"column\": \"Adaptabilidad estil\\u00edstica\",\n      \"properties\": {\n        \"dtype\": \"object\",\n        \"semantic_type\": \"\",\n        \"description\": \"\"\n      }\n    },\n    {\n      \"column\": \"Creatividad\",\n      \"properties\": {\n        \"dtype\": \"object\",\n        \"semantic_type\": \"\",\n        \"description\": \"\"\n      }\n    },\n    {\n      \"column\": \"Promedio\",\n      \"properties\": {\n        \"dtype\": \"date\",\n        \"min\": 28.424009323120117,\n        \"max\": 29.179725646972656,\n        \"num_unique_values\": 3,\n        \"samples\": [\n          28.424009323120117,\n          29.179725646972656,\n          28.711557388305664\n        ],\n        \"semantic_type\": \"\",\n        \"description\": \"\"\n      }\n    }\n  ]\n}",
       "type": "dataframe",
       "variable_name": "df"
      },
      "text/html": [
       "\n",
       "  <div id=\"df-bff7fce4-0b09-4ca1-bf37-366b67cf861a\" class=\"colab-df-container\">\n",
       "    <div>\n",
       "<style scoped>\n",
       "    .dataframe tbody tr th:only-of-type {\n",
       "        vertical-align: middle;\n",
       "    }\n",
       "\n",
       "    .dataframe tbody tr th {\n",
       "        vertical-align: top;\n",
       "    }\n",
       "\n",
       "    .dataframe thead th {\n",
       "        text-align: right;\n",
       "    }\n",
       "</style>\n",
       "<table border=\"1\" class=\"dataframe\">\n",
       "  <thead>\n",
       "    <tr style=\"text-align: right;\">\n",
       "      <th></th>\n",
       "      <th>Fidelidad</th>\n",
       "      <th>Robustez</th>\n",
       "      <th>Adaptabilidad estilística</th>\n",
       "      <th>Creatividad</th>\n",
       "      <th>Promedio</th>\n",
       "    </tr>\n",
       "  </thead>\n",
       "  <tbody>\n",
       "    <tr>\n",
       "      <th>Textual Inversion</th>\n",
       "      <td>27.191101</td>\n",
       "      <td>29.2284</td>\n",
       "      <td>26.184328</td>\n",
       "      <td>31.092207</td>\n",
       "      <td>28.424009</td>\n",
       "    </tr>\n",
       "    <tr>\n",
       "      <th>LoRA</th>\n",
       "      <td>27.504082</td>\n",
       "      <td>29.626661</td>\n",
       "      <td>29.159054</td>\n",
       "      <td>30.429108</td>\n",
       "      <td>29.179726</td>\n",
       "    </tr>\n",
       "    <tr>\n",
       "      <th>DreamBooth</th>\n",
       "      <td>27.790731</td>\n",
       "      <td>28.03562</td>\n",
       "      <td>28.845299</td>\n",
       "      <td>30.174582</td>\n",
       "      <td>28.711557</td>\n",
       "    </tr>\n",
       "  </tbody>\n",
       "</table>\n",
       "</div>\n",
       "    <div class=\"colab-df-buttons\">\n",
       "\n",
       "  <div class=\"colab-df-container\">\n",
       "    <button class=\"colab-df-convert\" onclick=\"convertToInteractive('df-bff7fce4-0b09-4ca1-bf37-366b67cf861a')\"\n",
       "            title=\"Convert this dataframe to an interactive table.\"\n",
       "            style=\"display:none;\">\n",
       "\n",
       "  <svg xmlns=\"http://www.w3.org/2000/svg\" height=\"24px\" viewBox=\"0 -960 960 960\">\n",
       "    <path d=\"M120-120v-720h720v720H120Zm60-500h600v-160H180v160Zm220 220h160v-160H400v160Zm0 220h160v-160H400v160ZM180-400h160v-160H180v160Zm440 0h160v-160H620v160ZM180-180h160v-160H180v160Zm440 0h160v-160H620v160Z\"/>\n",
       "  </svg>\n",
       "    </button>\n",
       "\n",
       "  <style>\n",
       "    .colab-df-container {\n",
       "      display:flex;\n",
       "      gap: 12px;\n",
       "    }\n",
       "\n",
       "    .colab-df-convert {\n",
       "      background-color: #E8F0FE;\n",
       "      border: none;\n",
       "      border-radius: 50%;\n",
       "      cursor: pointer;\n",
       "      display: none;\n",
       "      fill: #1967D2;\n",
       "      height: 32px;\n",
       "      padding: 0 0 0 0;\n",
       "      width: 32px;\n",
       "    }\n",
       "\n",
       "    .colab-df-convert:hover {\n",
       "      background-color: #E2EBFA;\n",
       "      box-shadow: 0px 1px 2px rgba(60, 64, 67, 0.3), 0px 1px 3px 1px rgba(60, 64, 67, 0.15);\n",
       "      fill: #174EA6;\n",
       "    }\n",
       "\n",
       "    .colab-df-buttons div {\n",
       "      margin-bottom: 4px;\n",
       "    }\n",
       "\n",
       "    [theme=dark] .colab-df-convert {\n",
       "      background-color: #3B4455;\n",
       "      fill: #D2E3FC;\n",
       "    }\n",
       "\n",
       "    [theme=dark] .colab-df-convert:hover {\n",
       "      background-color: #434B5C;\n",
       "      box-shadow: 0px 1px 3px 1px rgba(0, 0, 0, 0.15);\n",
       "      filter: drop-shadow(0px 1px 2px rgba(0, 0, 0, 0.3));\n",
       "      fill: #FFFFFF;\n",
       "    }\n",
       "  </style>\n",
       "\n",
       "    <script>\n",
       "      const buttonEl =\n",
       "        document.querySelector('#df-bff7fce4-0b09-4ca1-bf37-366b67cf861a button.colab-df-convert');\n",
       "      buttonEl.style.display =\n",
       "        google.colab.kernel.accessAllowed ? 'block' : 'none';\n",
       "\n",
       "      async function convertToInteractive(key) {\n",
       "        const element = document.querySelector('#df-bff7fce4-0b09-4ca1-bf37-366b67cf861a');\n",
       "        const dataTable =\n",
       "          await google.colab.kernel.invokeFunction('convertToInteractive',\n",
       "                                                    [key], {});\n",
       "        if (!dataTable) return;\n",
       "\n",
       "        const docLinkHtml = 'Like what you see? Visit the ' +\n",
       "          '<a target=\"_blank\" href=https://colab.research.google.com/notebooks/data_table.ipynb>data table notebook</a>'\n",
       "          + ' to learn more about interactive tables.';\n",
       "        element.innerHTML = '';\n",
       "        dataTable['output_type'] = 'display_data';\n",
       "        await google.colab.output.renderOutput(dataTable, element);\n",
       "        const docLink = document.createElement('div');\n",
       "        docLink.innerHTML = docLinkHtml;\n",
       "        element.appendChild(docLink);\n",
       "      }\n",
       "    </script>\n",
       "  </div>\n",
       "\n",
       "\n",
       "    <div id=\"df-9a34dbab-abfd-4e6b-8faf-77ccbca57c55\">\n",
       "      <button class=\"colab-df-quickchart\" onclick=\"quickchart('df-9a34dbab-abfd-4e6b-8faf-77ccbca57c55')\"\n",
       "                title=\"Suggest charts\"\n",
       "                style=\"display:none;\">\n",
       "\n",
       "<svg xmlns=\"http://www.w3.org/2000/svg\" height=\"24px\"viewBox=\"0 0 24 24\"\n",
       "     width=\"24px\">\n",
       "    <g>\n",
       "        <path d=\"M19 3H5c-1.1 0-2 .9-2 2v14c0 1.1.9 2 2 2h14c1.1 0 2-.9 2-2V5c0-1.1-.9-2-2-2zM9 17H7v-7h2v7zm4 0h-2V7h2v10zm4 0h-2v-4h2v4z\"/>\n",
       "    </g>\n",
       "</svg>\n",
       "      </button>\n",
       "\n",
       "<style>\n",
       "  .colab-df-quickchart {\n",
       "      --bg-color: #E8F0FE;\n",
       "      --fill-color: #1967D2;\n",
       "      --hover-bg-color: #E2EBFA;\n",
       "      --hover-fill-color: #174EA6;\n",
       "      --disabled-fill-color: #AAA;\n",
       "      --disabled-bg-color: #DDD;\n",
       "  }\n",
       "\n",
       "  [theme=dark] .colab-df-quickchart {\n",
       "      --bg-color: #3B4455;\n",
       "      --fill-color: #D2E3FC;\n",
       "      --hover-bg-color: #434B5C;\n",
       "      --hover-fill-color: #FFFFFF;\n",
       "      --disabled-bg-color: #3B4455;\n",
       "      --disabled-fill-color: #666;\n",
       "  }\n",
       "\n",
       "  .colab-df-quickchart {\n",
       "    background-color: var(--bg-color);\n",
       "    border: none;\n",
       "    border-radius: 50%;\n",
       "    cursor: pointer;\n",
       "    display: none;\n",
       "    fill: var(--fill-color);\n",
       "    height: 32px;\n",
       "    padding: 0;\n",
       "    width: 32px;\n",
       "  }\n",
       "\n",
       "  .colab-df-quickchart:hover {\n",
       "    background-color: var(--hover-bg-color);\n",
       "    box-shadow: 0 1px 2px rgba(60, 64, 67, 0.3), 0 1px 3px 1px rgba(60, 64, 67, 0.15);\n",
       "    fill: var(--button-hover-fill-color);\n",
       "  }\n",
       "\n",
       "  .colab-df-quickchart-complete:disabled,\n",
       "  .colab-df-quickchart-complete:disabled:hover {\n",
       "    background-color: var(--disabled-bg-color);\n",
       "    fill: var(--disabled-fill-color);\n",
       "    box-shadow: none;\n",
       "  }\n",
       "\n",
       "  .colab-df-spinner {\n",
       "    border: 2px solid var(--fill-color);\n",
       "    border-color: transparent;\n",
       "    border-bottom-color: var(--fill-color);\n",
       "    animation:\n",
       "      spin 1s steps(1) infinite;\n",
       "  }\n",
       "\n",
       "  @keyframes spin {\n",
       "    0% {\n",
       "      border-color: transparent;\n",
       "      border-bottom-color: var(--fill-color);\n",
       "      border-left-color: var(--fill-color);\n",
       "    }\n",
       "    20% {\n",
       "      border-color: transparent;\n",
       "      border-left-color: var(--fill-color);\n",
       "      border-top-color: var(--fill-color);\n",
       "    }\n",
       "    30% {\n",
       "      border-color: transparent;\n",
       "      border-left-color: var(--fill-color);\n",
       "      border-top-color: var(--fill-color);\n",
       "      border-right-color: var(--fill-color);\n",
       "    }\n",
       "    40% {\n",
       "      border-color: transparent;\n",
       "      border-right-color: var(--fill-color);\n",
       "      border-top-color: var(--fill-color);\n",
       "    }\n",
       "    60% {\n",
       "      border-color: transparent;\n",
       "      border-right-color: var(--fill-color);\n",
       "    }\n",
       "    80% {\n",
       "      border-color: transparent;\n",
       "      border-right-color: var(--fill-color);\n",
       "      border-bottom-color: var(--fill-color);\n",
       "    }\n",
       "    90% {\n",
       "      border-color: transparent;\n",
       "      border-bottom-color: var(--fill-color);\n",
       "    }\n",
       "  }\n",
       "</style>\n",
       "\n",
       "      <script>\n",
       "        async function quickchart(key) {\n",
       "          const quickchartButtonEl =\n",
       "            document.querySelector('#' + key + ' button');\n",
       "          quickchartButtonEl.disabled = true;  // To prevent multiple clicks.\n",
       "          quickchartButtonEl.classList.add('colab-df-spinner');\n",
       "          try {\n",
       "            const charts = await google.colab.kernel.invokeFunction(\n",
       "                'suggestCharts', [key], {});\n",
       "          } catch (error) {\n",
       "            console.error('Error during call to suggestCharts:', error);\n",
       "          }\n",
       "          quickchartButtonEl.classList.remove('colab-df-spinner');\n",
       "          quickchartButtonEl.classList.add('colab-df-quickchart-complete');\n",
       "        }\n",
       "        (() => {\n",
       "          let quickchartButtonEl =\n",
       "            document.querySelector('#df-9a34dbab-abfd-4e6b-8faf-77ccbca57c55 button');\n",
       "          quickchartButtonEl.style.display =\n",
       "            google.colab.kernel.accessAllowed ? 'block' : 'none';\n",
       "        })();\n",
       "      </script>\n",
       "    </div>\n",
       "\n",
       "  <div id=\"id_0f89d396-800a-4348-afc2-899763038350\">\n",
       "    <style>\n",
       "      .colab-df-generate {\n",
       "        background-color: #E8F0FE;\n",
       "        border: none;\n",
       "        border-radius: 50%;\n",
       "        cursor: pointer;\n",
       "        display: none;\n",
       "        fill: #1967D2;\n",
       "        height: 32px;\n",
       "        padding: 0 0 0 0;\n",
       "        width: 32px;\n",
       "      }\n",
       "\n",
       "      .colab-df-generate:hover {\n",
       "        background-color: #E2EBFA;\n",
       "        box-shadow: 0px 1px 2px rgba(60, 64, 67, 0.3), 0px 1px 3px 1px rgba(60, 64, 67, 0.15);\n",
       "        fill: #174EA6;\n",
       "      }\n",
       "\n",
       "      [theme=dark] .colab-df-generate {\n",
       "        background-color: #3B4455;\n",
       "        fill: #D2E3FC;\n",
       "      }\n",
       "\n",
       "      [theme=dark] .colab-df-generate:hover {\n",
       "        background-color: #434B5C;\n",
       "        box-shadow: 0px 1px 3px 1px rgba(0, 0, 0, 0.15);\n",
       "        filter: drop-shadow(0px 1px 2px rgba(0, 0, 0, 0.3));\n",
       "        fill: #FFFFFF;\n",
       "      }\n",
       "    </style>\n",
       "    <button class=\"colab-df-generate\" onclick=\"generateWithVariable('df')\"\n",
       "            title=\"Generate code using this dataframe.\"\n",
       "            style=\"display:none;\">\n",
       "\n",
       "  <svg xmlns=\"http://www.w3.org/2000/svg\" height=\"24px\"viewBox=\"0 0 24 24\"\n",
       "       width=\"24px\">\n",
       "    <path d=\"M7,19H8.4L18.45,9,17,7.55,7,17.6ZM5,21V16.75L18.45,3.32a2,2,0,0,1,2.83,0l1.4,1.43a1.91,1.91,0,0,1,.58,1.4,1.91,1.91,0,0,1-.58,1.4L9.25,21ZM18.45,9,17,7.55Zm-12,3A5.31,5.31,0,0,0,4.9,8.1,5.31,5.31,0,0,0,1,6.5,5.31,5.31,0,0,0,4.9,4.9,5.31,5.31,0,0,0,6.5,1,5.31,5.31,0,0,0,8.1,4.9,5.31,5.31,0,0,0,12,6.5,5.46,5.46,0,0,0,6.5,12Z\"/>\n",
       "  </svg>\n",
       "    </button>\n",
       "    <script>\n",
       "      (() => {\n",
       "      const buttonEl =\n",
       "        document.querySelector('#id_0f89d396-800a-4348-afc2-899763038350 button.colab-df-generate');\n",
       "      buttonEl.style.display =\n",
       "        google.colab.kernel.accessAllowed ? 'block' : 'none';\n",
       "\n",
       "      buttonEl.onclick = () => {\n",
       "        google.colab.notebook.generateWithVariable('df');\n",
       "      }\n",
       "      })();\n",
       "    </script>\n",
       "  </div>\n",
       "\n",
       "    </div>\n",
       "  </div>\n"
      ],
      "text/plain": [
       "                   Fidelidad   Robustez Adaptabilidad estilística Creatividad  \\\n",
       "Textual Inversion  27.191101    29.2284                 26.184328   31.092207   \n",
       "LoRA               27.504082  29.626661                 29.159054   30.429108   \n",
       "DreamBooth         27.790731   28.03562                 28.845299   30.174582   \n",
       "\n",
       "                    Promedio  \n",
       "Textual Inversion  28.424009  \n",
       "LoRA               29.179726  \n",
       "DreamBooth         28.711557  "
      ]
     },
     "execution_count": 29,
     "metadata": {},
     "output_type": "execute_result"
    }
   ],
   "source": [
    "df"
   ]
  },
  {
   "cell_type": "code",
   "execution_count": null,
   "metadata": {
    "id": "XFnXIwqUFobp"
   },
   "outputs": [],
   "source": [
    "df_all = pd.DataFrame({\n",
    "    \"Textual inversion\": clip_fidelidad_ti[1] + clip_robustez_ti[1] + clip_estilos_ti[1] + clip_creatividad_ti[1],\n",
    "    \"LoRA\": clip_fidelidad_lora[1] + clip_robustez_lora[1] + clip_estilos_lora[1] + clip_creatividad_lora[1],\n",
    "    \"DreamBooth\": clip_fidelidad_db[1] + clip_robustez_db[1] + clip_estilos_db[1] + clip_creatividad_db[1]\n",
    "})\n",
    "\n",
    "prompts_fidelidad_clean = [' '.join(s.split()) for s in prompts_fidelidad]\n",
    "prompts_robustez_clean = [' '.join(s.split()) for s in prompts_robustez]\n",
    "prompts_estilos_clean = [' '.join(s.split()) for s in prompts_estilos]\n",
    "prompts_creatividad_clean = [' '.join(s.split()) for s in prompts_creatividad]\n",
    "\n",
    "list_prompts = prompts_fidelidad_clean + prompts_robustez_clean + prompts_estilos_clean + prompts_creatividad_clean\n",
    "\n",
    "df_all.index=list_prompts"
   ]
  },
  {
   "cell_type": "code",
   "execution_count": null,
   "metadata": {
    "colab": {
     "base_uri": "https://localhost:8080/",
     "height": 850
    },
    "id": "MMf9x8dplAEr",
    "outputId": "6903b6f3-fe55-48c0-9bd1-10f80899cd52"
   },
   "outputs": [
    {
     "data": {
      "application/vnd.google.colaboratory.intrinsic+json": {
       "summary": "{\n  \"name\": \"df_all\",\n  \"rows\": 20,\n  \"fields\": [\n    {\n      \"column\": \"Textual inversion\",\n      \"properties\": {\n        \"dtype\": \"number\",\n        \"std\": 3.6813046982454023,\n        \"min\": 20.82027244567871,\n        \"max\": 37.729915618896484,\n        \"num_unique_values\": 20,\n        \"samples\": [\n          27.189966201782227,\n          27.413713455200195,\n          37.729915618896484\n        ],\n        \"semantic_type\": \"\",\n        \"description\": \"\"\n      }\n    },\n    {\n      \"column\": \"LoRA\",\n      \"properties\": {\n        \"dtype\": \"number\",\n        \"std\": 3.2877360193444796,\n        \"min\": 22.873254776000977,\n        \"max\": 36.69703674316406,\n        \"num_unique_values\": 20,\n        \"samples\": [\n          29.63213348388672,\n          24.0180606842041,\n          36.69703674316406\n        ],\n        \"semantic_type\": \"\",\n        \"description\": \"\"\n      }\n    },\n    {\n      \"column\": \"DreamBooth\",\n      \"properties\": {\n        \"dtype\": \"number\",\n        \"std\": 2.9209428752823148,\n        \"min\": 23.257009506225586,\n        \"max\": 35.840213775634766,\n        \"num_unique_values\": 20,\n        \"samples\": [\n          29.94970703125,\n          25.5815372467041,\n          33.32831954956055\n        ],\n        \"semantic_type\": \"\",\n        \"description\": \"\"\n      }\n    }\n  ]\n}",
       "type": "dataframe",
       "variable_name": "df_all"
      },
      "text/html": [
       "\n",
       "  <div id=\"df-9564a096-296c-449f-9fde-0bc3382b0773\" class=\"colab-df-container\">\n",
       "    <div>\n",
       "<style scoped>\n",
       "    .dataframe tbody tr th:only-of-type {\n",
       "        vertical-align: middle;\n",
       "    }\n",
       "\n",
       "    .dataframe tbody tr th {\n",
       "        vertical-align: top;\n",
       "    }\n",
       "\n",
       "    .dataframe thead th {\n",
       "        text-align: right;\n",
       "    }\n",
       "</style>\n",
       "<table border=\"1\" class=\"dataframe\">\n",
       "  <thead>\n",
       "    <tr style=\"text-align: right;\">\n",
       "      <th></th>\n",
       "      <th>Textual inversion</th>\n",
       "      <th>LoRA</th>\n",
       "      <th>DreamBooth</th>\n",
       "    </tr>\n",
       "  </thead>\n",
       "  <tbody>\n",
       "    <tr>\n",
       "      <th>A pair of &lt;zptx&gt; sneakers, white background, photorealistic, high resolution, studio lighting</th>\n",
       "      <td>27.189966</td>\n",
       "      <td>29.632133</td>\n",
       "      <td>29.949707</td>\n",
       "    </tr>\n",
       "    <tr>\n",
       "      <th>Close-up of the &lt;zptx&gt; sneaker. Side view, fabric texture visible, macro shot</th>\n",
       "      <td>28.887014</td>\n",
       "      <td>27.408030</td>\n",
       "      <td>28.193993</td>\n",
       "    </tr>\n",
       "    <tr>\n",
       "      <th>A clean minimalist ad featuring the blue and white &lt;zptx&gt; sneakers. Solid color background. High contrast, product focus, no text, modern design magazine style. Realistic</th>\n",
       "      <td>21.985008</td>\n",
       "      <td>22.873255</td>\n",
       "      <td>23.257010</td>\n",
       "    </tr>\n",
       "    <tr>\n",
       "      <th>A digital eco-themed ad showing the &lt;zptx&gt; sneakers resting on a moss-covered rock in a futuristic forest, with soft morning light filtering through trees. High detail, green and silver tones, peaceful yet modern aesthetic</th>\n",
       "      <td>29.016939</td>\n",
       "      <td>27.329590</td>\n",
       "      <td>27.089058</td>\n",
       "    </tr>\n",
       "    <tr>\n",
       "      <th>A digital ad showing the blue and white &lt;zptx&gt; sneaker resting on a beach. Sunset light, high detail, warm tones, peaceful yet modern aesthetic</th>\n",
       "      <td>28.876593</td>\n",
       "      <td>30.277395</td>\n",
       "      <td>30.463890</td>\n",
       "    </tr>\n",
       "    <tr>\n",
       "      <th>A red and white &lt;zptx&gt; running sneaker</th>\n",
       "      <td>28.085546</td>\n",
       "      <td>27.515770</td>\n",
       "      <td>25.235405</td>\n",
       "    </tr>\n",
       "    <tr>\n",
       "      <th>Detailed photo of a single &lt;zptx&gt; sneaker on a light yellow acrylic platform. Studio lighting with soft shadows, realistic texture, professional commercial aesthetic</th>\n",
       "      <td>28.003531</td>\n",
       "      <td>29.932724</td>\n",
       "      <td>27.805490</td>\n",
       "    </tr>\n",
       "    <tr>\n",
       "      <th>Professional studio photo of lots of &lt;zptx&gt; running sneakers arranged in a circle, soft shadows, realistic, color-blocking composition</th>\n",
       "      <td>29.741945</td>\n",
       "      <td>30.305389</td>\n",
       "      <td>29.443405</td>\n",
       "    </tr>\n",
       "    <tr>\n",
       "      <th>A top-down view of a &lt;zptx&gt; training sneaker placed on lush green grass, realistic lighting, soft shadows, high resolution</th>\n",
       "      <td>31.082560</td>\n",
       "      <td>30.752756</td>\n",
       "      <td>29.658159</td>\n",
       "    </tr>\n",
       "    <tr>\n",
       "      <th>Futuristic &lt;zptx&gt; sneaker glowing with neon pink and cyan circuit patterns,rain-soaked Tokyo street at night, cyberpunk aesthetic, cinematic lighting</th>\n",
       "      <td>24.760805</td>\n",
       "      <td>28.553909</td>\n",
       "      <td>26.711287</td>\n",
       "    </tr>\n",
       "    <tr>\n",
       "      <th>A worn &lt;zptx&gt; sneaker on a wooden bench, 1970s Polaroid photo with faded colors,light leaks, film grain, vignette effect</th>\n",
       "      <td>29.092857</td>\n",
       "      <td>31.621452</td>\n",
       "      <td>27.476469</td>\n",
       "    </tr>\n",
       "    <tr>\n",
       "      <th>silhouette of a &lt;zptx&gt; sneaker on pastel yellow background, minimalist vector art, 2D design</th>\n",
       "      <td>20.820272</td>\n",
       "      <td>28.203478</td>\n",
       "      <td>28.039217</td>\n",
       "    </tr>\n",
       "    <tr>\n",
       "      <th>Impressionist oil painting of a &lt;zptx&gt; sneaker in the style of Claude Monet,loose visible brushstrokes, soft pastel color palette (lavender, mint green, peach)</th>\n",
       "      <td>28.048302</td>\n",
       "      <td>25.305979</td>\n",
       "      <td>29.282576</td>\n",
       "    </tr>\n",
       "    <tr>\n",
       "      <th>A &lt;zptx&gt; sneaker in pencil sketch style, grayscale, detailed contours</th>\n",
       "      <td>28.199392</td>\n",
       "      <td>32.110447</td>\n",
       "      <td>32.716942</td>\n",
       "    </tr>\n",
       "    <tr>\n",
       "      <th>A creative ad featuring &lt;zptx&gt; running sneakers</th>\n",
       "      <td>30.379608</td>\n",
       "      <td>28.486261</td>\n",
       "      <td>26.694639</td>\n",
       "    </tr>\n",
       "    <tr>\n",
       "      <th>A poster for a city marathon featuring the &lt;zptx&gt; sneaker in the foreground, Behind them is a blurred city skyline with tall modern buildings. Flat pastel colors, minimal shading, cartoon style</th>\n",
       "      <td>37.729916</td>\n",
       "      <td>36.697037</td>\n",
       "      <td>33.328320</td>\n",
       "    </tr>\n",
       "    <tr>\n",
       "      <th>A social media ad highlighting the &lt;zptx&gt; sneaker floating in a dark starry sky. Glowing stars and galaxies in the background. Dramatic composition, cinematic atmosphere, soft textures.</th>\n",
       "      <td>27.554663</td>\n",
       "      <td>28.603823</td>\n",
       "      <td>29.906713</td>\n",
       "    </tr>\n",
       "    <tr>\n",
       "      <th>A digital ad of the &lt;zptx&gt; sneakers with the text 'BORN TO RUN' in bold black letters. Product focus, studio lighting, high contrast</th>\n",
       "      <td>27.413713</td>\n",
       "      <td>24.018061</td>\n",
       "      <td>25.581537</td>\n",
       "    </tr>\n",
       "    <tr>\n",
       "      <th>Close-up of the &lt;zptx&gt; sneaker splashing into water, dynamic water splash, detailed reflection of the shoe and city skyline, cinematic lighting, overcast sky, photorealistic style, dramatic focus</th>\n",
       "      <td>34.801567</td>\n",
       "      <td>35.139328</td>\n",
       "      <td>35.840214</td>\n",
       "    </tr>\n",
       "    <tr>\n",
       "      <th>A digital ad for a &lt;zptx&gt; training sneakers in a background of flames and fire. Dramatic composition, cinematic atmosphere</th>\n",
       "      <td>28.673780</td>\n",
       "      <td>29.630136</td>\n",
       "      <td>29.696054</td>\n",
       "    </tr>\n",
       "  </tbody>\n",
       "</table>\n",
       "</div>\n",
       "    <div class=\"colab-df-buttons\">\n",
       "\n",
       "  <div class=\"colab-df-container\">\n",
       "    <button class=\"colab-df-convert\" onclick=\"convertToInteractive('df-9564a096-296c-449f-9fde-0bc3382b0773')\"\n",
       "            title=\"Convert this dataframe to an interactive table.\"\n",
       "            style=\"display:none;\">\n",
       "\n",
       "  <svg xmlns=\"http://www.w3.org/2000/svg\" height=\"24px\" viewBox=\"0 -960 960 960\">\n",
       "    <path d=\"M120-120v-720h720v720H120Zm60-500h600v-160H180v160Zm220 220h160v-160H400v160Zm0 220h160v-160H400v160ZM180-400h160v-160H180v160Zm440 0h160v-160H620v160ZM180-180h160v-160H180v160Zm440 0h160v-160H620v160Z\"/>\n",
       "  </svg>\n",
       "    </button>\n",
       "\n",
       "  <style>\n",
       "    .colab-df-container {\n",
       "      display:flex;\n",
       "      gap: 12px;\n",
       "    }\n",
       "\n",
       "    .colab-df-convert {\n",
       "      background-color: #E8F0FE;\n",
       "      border: none;\n",
       "      border-radius: 50%;\n",
       "      cursor: pointer;\n",
       "      display: none;\n",
       "      fill: #1967D2;\n",
       "      height: 32px;\n",
       "      padding: 0 0 0 0;\n",
       "      width: 32px;\n",
       "    }\n",
       "\n",
       "    .colab-df-convert:hover {\n",
       "      background-color: #E2EBFA;\n",
       "      box-shadow: 0px 1px 2px rgba(60, 64, 67, 0.3), 0px 1px 3px 1px rgba(60, 64, 67, 0.15);\n",
       "      fill: #174EA6;\n",
       "    }\n",
       "\n",
       "    .colab-df-buttons div {\n",
       "      margin-bottom: 4px;\n",
       "    }\n",
       "\n",
       "    [theme=dark] .colab-df-convert {\n",
       "      background-color: #3B4455;\n",
       "      fill: #D2E3FC;\n",
       "    }\n",
       "\n",
       "    [theme=dark] .colab-df-convert:hover {\n",
       "      background-color: #434B5C;\n",
       "      box-shadow: 0px 1px 3px 1px rgba(0, 0, 0, 0.15);\n",
       "      filter: drop-shadow(0px 1px 2px rgba(0, 0, 0, 0.3));\n",
       "      fill: #FFFFFF;\n",
       "    }\n",
       "  </style>\n",
       "\n",
       "    <script>\n",
       "      const buttonEl =\n",
       "        document.querySelector('#df-9564a096-296c-449f-9fde-0bc3382b0773 button.colab-df-convert');\n",
       "      buttonEl.style.display =\n",
       "        google.colab.kernel.accessAllowed ? 'block' : 'none';\n",
       "\n",
       "      async function convertToInteractive(key) {\n",
       "        const element = document.querySelector('#df-9564a096-296c-449f-9fde-0bc3382b0773');\n",
       "        const dataTable =\n",
       "          await google.colab.kernel.invokeFunction('convertToInteractive',\n",
       "                                                    [key], {});\n",
       "        if (!dataTable) return;\n",
       "\n",
       "        const docLinkHtml = 'Like what you see? Visit the ' +\n",
       "          '<a target=\"_blank\" href=https://colab.research.google.com/notebooks/data_table.ipynb>data table notebook</a>'\n",
       "          + ' to learn more about interactive tables.';\n",
       "        element.innerHTML = '';\n",
       "        dataTable['output_type'] = 'display_data';\n",
       "        await google.colab.output.renderOutput(dataTable, element);\n",
       "        const docLink = document.createElement('div');\n",
       "        docLink.innerHTML = docLinkHtml;\n",
       "        element.appendChild(docLink);\n",
       "      }\n",
       "    </script>\n",
       "  </div>\n",
       "\n",
       "\n",
       "    <div id=\"df-f1e6f1c5-ba78-4746-8ab3-70fd1b681935\">\n",
       "      <button class=\"colab-df-quickchart\" onclick=\"quickchart('df-f1e6f1c5-ba78-4746-8ab3-70fd1b681935')\"\n",
       "                title=\"Suggest charts\"\n",
       "                style=\"display:none;\">\n",
       "\n",
       "<svg xmlns=\"http://www.w3.org/2000/svg\" height=\"24px\"viewBox=\"0 0 24 24\"\n",
       "     width=\"24px\">\n",
       "    <g>\n",
       "        <path d=\"M19 3H5c-1.1 0-2 .9-2 2v14c0 1.1.9 2 2 2h14c1.1 0 2-.9 2-2V5c0-1.1-.9-2-2-2zM9 17H7v-7h2v7zm4 0h-2V7h2v10zm4 0h-2v-4h2v4z\"/>\n",
       "    </g>\n",
       "</svg>\n",
       "      </button>\n",
       "\n",
       "<style>\n",
       "  .colab-df-quickchart {\n",
       "      --bg-color: #E8F0FE;\n",
       "      --fill-color: #1967D2;\n",
       "      --hover-bg-color: #E2EBFA;\n",
       "      --hover-fill-color: #174EA6;\n",
       "      --disabled-fill-color: #AAA;\n",
       "      --disabled-bg-color: #DDD;\n",
       "  }\n",
       "\n",
       "  [theme=dark] .colab-df-quickchart {\n",
       "      --bg-color: #3B4455;\n",
       "      --fill-color: #D2E3FC;\n",
       "      --hover-bg-color: #434B5C;\n",
       "      --hover-fill-color: #FFFFFF;\n",
       "      --disabled-bg-color: #3B4455;\n",
       "      --disabled-fill-color: #666;\n",
       "  }\n",
       "\n",
       "  .colab-df-quickchart {\n",
       "    background-color: var(--bg-color);\n",
       "    border: none;\n",
       "    border-radius: 50%;\n",
       "    cursor: pointer;\n",
       "    display: none;\n",
       "    fill: var(--fill-color);\n",
       "    height: 32px;\n",
       "    padding: 0;\n",
       "    width: 32px;\n",
       "  }\n",
       "\n",
       "  .colab-df-quickchart:hover {\n",
       "    background-color: var(--hover-bg-color);\n",
       "    box-shadow: 0 1px 2px rgba(60, 64, 67, 0.3), 0 1px 3px 1px rgba(60, 64, 67, 0.15);\n",
       "    fill: var(--button-hover-fill-color);\n",
       "  }\n",
       "\n",
       "  .colab-df-quickchart-complete:disabled,\n",
       "  .colab-df-quickchart-complete:disabled:hover {\n",
       "    background-color: var(--disabled-bg-color);\n",
       "    fill: var(--disabled-fill-color);\n",
       "    box-shadow: none;\n",
       "  }\n",
       "\n",
       "  .colab-df-spinner {\n",
       "    border: 2px solid var(--fill-color);\n",
       "    border-color: transparent;\n",
       "    border-bottom-color: var(--fill-color);\n",
       "    animation:\n",
       "      spin 1s steps(1) infinite;\n",
       "  }\n",
       "\n",
       "  @keyframes spin {\n",
       "    0% {\n",
       "      border-color: transparent;\n",
       "      border-bottom-color: var(--fill-color);\n",
       "      border-left-color: var(--fill-color);\n",
       "    }\n",
       "    20% {\n",
       "      border-color: transparent;\n",
       "      border-left-color: var(--fill-color);\n",
       "      border-top-color: var(--fill-color);\n",
       "    }\n",
       "    30% {\n",
       "      border-color: transparent;\n",
       "      border-left-color: var(--fill-color);\n",
       "      border-top-color: var(--fill-color);\n",
       "      border-right-color: var(--fill-color);\n",
       "    }\n",
       "    40% {\n",
       "      border-color: transparent;\n",
       "      border-right-color: var(--fill-color);\n",
       "      border-top-color: var(--fill-color);\n",
       "    }\n",
       "    60% {\n",
       "      border-color: transparent;\n",
       "      border-right-color: var(--fill-color);\n",
       "    }\n",
       "    80% {\n",
       "      border-color: transparent;\n",
       "      border-right-color: var(--fill-color);\n",
       "      border-bottom-color: var(--fill-color);\n",
       "    }\n",
       "    90% {\n",
       "      border-color: transparent;\n",
       "      border-bottom-color: var(--fill-color);\n",
       "    }\n",
       "  }\n",
       "</style>\n",
       "\n",
       "      <script>\n",
       "        async function quickchart(key) {\n",
       "          const quickchartButtonEl =\n",
       "            document.querySelector('#' + key + ' button');\n",
       "          quickchartButtonEl.disabled = true;  // To prevent multiple clicks.\n",
       "          quickchartButtonEl.classList.add('colab-df-spinner');\n",
       "          try {\n",
       "            const charts = await google.colab.kernel.invokeFunction(\n",
       "                'suggestCharts', [key], {});\n",
       "          } catch (error) {\n",
       "            console.error('Error during call to suggestCharts:', error);\n",
       "          }\n",
       "          quickchartButtonEl.classList.remove('colab-df-spinner');\n",
       "          quickchartButtonEl.classList.add('colab-df-quickchart-complete');\n",
       "        }\n",
       "        (() => {\n",
       "          let quickchartButtonEl =\n",
       "            document.querySelector('#df-f1e6f1c5-ba78-4746-8ab3-70fd1b681935 button');\n",
       "          quickchartButtonEl.style.display =\n",
       "            google.colab.kernel.accessAllowed ? 'block' : 'none';\n",
       "        })();\n",
       "      </script>\n",
       "    </div>\n",
       "\n",
       "  <div id=\"id_8d2023a8-d17a-4eaf-8ffd-75564710bdf1\">\n",
       "    <style>\n",
       "      .colab-df-generate {\n",
       "        background-color: #E8F0FE;\n",
       "        border: none;\n",
       "        border-radius: 50%;\n",
       "        cursor: pointer;\n",
       "        display: none;\n",
       "        fill: #1967D2;\n",
       "        height: 32px;\n",
       "        padding: 0 0 0 0;\n",
       "        width: 32px;\n",
       "      }\n",
       "\n",
       "      .colab-df-generate:hover {\n",
       "        background-color: #E2EBFA;\n",
       "        box-shadow: 0px 1px 2px rgba(60, 64, 67, 0.3), 0px 1px 3px 1px rgba(60, 64, 67, 0.15);\n",
       "        fill: #174EA6;\n",
       "      }\n",
       "\n",
       "      [theme=dark] .colab-df-generate {\n",
       "        background-color: #3B4455;\n",
       "        fill: #D2E3FC;\n",
       "      }\n",
       "\n",
       "      [theme=dark] .colab-df-generate:hover {\n",
       "        background-color: #434B5C;\n",
       "        box-shadow: 0px 1px 3px 1px rgba(0, 0, 0, 0.15);\n",
       "        filter: drop-shadow(0px 1px 2px rgba(0, 0, 0, 0.3));\n",
       "        fill: #FFFFFF;\n",
       "      }\n",
       "    </style>\n",
       "    <button class=\"colab-df-generate\" onclick=\"generateWithVariable('df_all')\"\n",
       "            title=\"Generate code using this dataframe.\"\n",
       "            style=\"display:none;\">\n",
       "\n",
       "  <svg xmlns=\"http://www.w3.org/2000/svg\" height=\"24px\"viewBox=\"0 0 24 24\"\n",
       "       width=\"24px\">\n",
       "    <path d=\"M7,19H8.4L18.45,9,17,7.55,7,17.6ZM5,21V16.75L18.45,3.32a2,2,0,0,1,2.83,0l1.4,1.43a1.91,1.91,0,0,1,.58,1.4,1.91,1.91,0,0,1-.58,1.4L9.25,21ZM18.45,9,17,7.55Zm-12,3A5.31,5.31,0,0,0,4.9,8.1,5.31,5.31,0,0,0,1,6.5,5.31,5.31,0,0,0,4.9,4.9,5.31,5.31,0,0,0,6.5,1,5.31,5.31,0,0,0,8.1,4.9,5.31,5.31,0,0,0,12,6.5,5.46,5.46,0,0,0,6.5,12Z\"/>\n",
       "  </svg>\n",
       "    </button>\n",
       "    <script>\n",
       "      (() => {\n",
       "      const buttonEl =\n",
       "        document.querySelector('#id_8d2023a8-d17a-4eaf-8ffd-75564710bdf1 button.colab-df-generate');\n",
       "      buttonEl.style.display =\n",
       "        google.colab.kernel.accessAllowed ? 'block' : 'none';\n",
       "\n",
       "      buttonEl.onclick = () => {\n",
       "        google.colab.notebook.generateWithVariable('df_all');\n",
       "      }\n",
       "      })();\n",
       "    </script>\n",
       "  </div>\n",
       "\n",
       "    </div>\n",
       "  </div>\n"
      ],
      "text/plain": [
       "                                                    Textual inversion  \\\n",
       "A pair of <zptx> sneakers, white background, ph...          27.189966   \n",
       "Close-up of the <zptx> sneaker. Side view, fabr...          28.887014   \n",
       "A clean minimalist ad featuring the blue and wh...          21.985008   \n",
       "A digital eco-themed ad showing the <zptx> snea...          29.016939   \n",
       "A digital ad showing the blue and white <zptx> ...          28.876593   \n",
       "A red and white <zptx> running sneaker                      28.085546   \n",
       "Detailed photo of a single <zptx> sneaker on a ...          28.003531   \n",
       "Professional studio photo of lots of <zptx> run...          29.741945   \n",
       "A top-down view of a <zptx> training sneaker pl...          31.082560   \n",
       "Futuristic <zptx> sneaker glowing with neon pin...          24.760805   \n",
       "A worn <zptx> sneaker on a wooden bench, 1970s ...          29.092857   \n",
       "silhouette of a <zptx> sneaker on pastel yellow...          20.820272   \n",
       "Impressionist oil painting of a <zptx> sneaker ...          28.048302   \n",
       "A <zptx> sneaker in pencil sketch style, graysc...          28.199392   \n",
       "A creative ad featuring <zptx> running sneakers             30.379608   \n",
       "A poster for a city marathon featuring the <zpt...          37.729916   \n",
       "A social media ad highlighting the <zptx> sneak...          27.554663   \n",
       "A digital ad of the <zptx> sneakers with the te...          27.413713   \n",
       "Close-up of the <zptx> sneaker splashing into w...          34.801567   \n",
       "A digital ad for a <zptx> training sneakers in ...          28.673780   \n",
       "\n",
       "                                                         LoRA  DreamBooth  \n",
       "A pair of <zptx> sneakers, white background, ph...  29.632133   29.949707  \n",
       "Close-up of the <zptx> sneaker. Side view, fabr...  27.408030   28.193993  \n",
       "A clean minimalist ad featuring the blue and wh...  22.873255   23.257010  \n",
       "A digital eco-themed ad showing the <zptx> snea...  27.329590   27.089058  \n",
       "A digital ad showing the blue and white <zptx> ...  30.277395   30.463890  \n",
       "A red and white <zptx> running sneaker              27.515770   25.235405  \n",
       "Detailed photo of a single <zptx> sneaker on a ...  29.932724   27.805490  \n",
       "Professional studio photo of lots of <zptx> run...  30.305389   29.443405  \n",
       "A top-down view of a <zptx> training sneaker pl...  30.752756   29.658159  \n",
       "Futuristic <zptx> sneaker glowing with neon pin...  28.553909   26.711287  \n",
       "A worn <zptx> sneaker on a wooden bench, 1970s ...  31.621452   27.476469  \n",
       "silhouette of a <zptx> sneaker on pastel yellow...  28.203478   28.039217  \n",
       "Impressionist oil painting of a <zptx> sneaker ...  25.305979   29.282576  \n",
       "A <zptx> sneaker in pencil sketch style, graysc...  32.110447   32.716942  \n",
       "A creative ad featuring <zptx> running sneakers     28.486261   26.694639  \n",
       "A poster for a city marathon featuring the <zpt...  36.697037   33.328320  \n",
       "A social media ad highlighting the <zptx> sneak...  28.603823   29.906713  \n",
       "A digital ad of the <zptx> sneakers with the te...  24.018061   25.581537  \n",
       "Close-up of the <zptx> sneaker splashing into w...  35.139328   35.840214  \n",
       "A digital ad for a <zptx> training sneakers in ...  29.630136   29.696054  "
      ]
     },
     "execution_count": 31,
     "metadata": {},
     "output_type": "execute_result"
    }
   ],
   "source": [
    "df_all"
   ]
  },
  {
   "cell_type": "code",
   "execution_count": null,
   "metadata": {
    "id": "KfmwSRSRIm90"
   },
   "outputs": [],
   "source": [
    "import openpyxl"
   ]
  },
  {
   "cell_type": "code",
   "execution_count": null,
   "metadata": {
    "id": "r8PX0XBVlDkr"
   },
   "outputs": [],
   "source": [
    "df.to_excel(\"CLIP_por_criterio.xlsx\", index=True)"
   ]
  },
  {
   "cell_type": "code",
   "execution_count": null,
   "metadata": {
    "id": "bhrho70XIta3"
   },
   "outputs": [],
   "source": [
    "df_all.to_excel(\"CLIP_por_prompt.xlsx\", index=True)"
   ]
  },
  {
   "cell_type": "code",
   "execution_count": null,
   "metadata": {
    "colab": {
     "base_uri": "https://localhost:8080/"
    },
    "id": "e4u_b3LGxJjC",
    "outputId": "32cbbf81-d5b2-4c44-f1ab-9a3259cbe4fc"
   },
   "outputs": [
    {
     "name": "stdout",
     "output_type": "stream",
     "text": [
      "  adding: generated_images/ (stored 0%)\n",
      "  adding: generated_images/C1_LoRA.png (deflated 0%)\n",
      "  adding: generated_images/C6_LoRA.png (deflated 0%)\n",
      "  adding: generated_images/E3_LoRA.png (deflated 0%)\n",
      "  adding: generated_images/C3_LoRA.png (deflated 0%)\n",
      "  adding: generated_images/C5_DB.png (deflated 0%)\n",
      "  adding: generated_images/E2_DB.png (deflated 0%)\n",
      "  adding: generated_images/F4_LoRA.png (deflated 0%)\n",
      "  adding: generated_images/R4_LoRA.png (deflated 0%)\n",
      "  adding: generated_images/F2_DB.png (deflated 0%)\n",
      "  adding: generated_images/R4_TI.png (deflated 0%)\n",
      "  adding: generated_images/C2_LoRA.png (deflated 0%)\n",
      "  adding: generated_images/F3_DB.png (deflated 0%)\n",
      "  adding: generated_images/E4_LoRA.png (deflated 0%)\n",
      "  adding: generated_images/R4_DB.png (deflated 0%)\n",
      "  adding: generated_images/C2_DB.png (deflated 0%)\n",
      "  adding: generated_images/E3_DB.png (deflated 0%)\n",
      "  adding: generated_images/C4_DB.png (deflated 0%)\n",
      "  adding: generated_images/C5_LoRA.png (deflated 0%)\n",
      "  adding: generated_images/F5_LoRA.png (deflated 0%)\n",
      "  adding: generated_images/R2_DB.png (deflated 0%)\n",
      "  adding: generated_images/E5_TI.png (deflated 0%)\n",
      "  adding: generated_images/F1_DB.png (deflated 0%)\n",
      "  adding: generated_images/F1_TI.png (deflated 0%)\n",
      "  adding: generated_images/E4_TI.png (deflated 0%)\n",
      "  adding: generated_images/E5_DB.png (deflated 1%)\n",
      "  adding: generated_images/C3_TI.png (deflated 0%)\n",
      "  adding: generated_images/R3_LoRA.png (deflated 0%)\n",
      "  adding: generated_images/C1_TI.png (deflated 0%)\n",
      "  adding: generated_images/F1_LoRA.png (deflated 0%)\n",
      "  adding: generated_images/F2_LoRA.png (deflated 0%)\n",
      "  adding: generated_images/R3_TI.png (deflated 0%)\n",
      "  adding: generated_images/F5_DB.png (deflated 0%)\n",
      "  adding: generated_images/F3_TI.png (deflated 0%)\n",
      "  adding: generated_images/R2_TI.png (deflated 0%)\n",
      "  adding: generated_images/E5_LoRA.png (deflated 0%)\n",
      "  adding: generated_images/F5_TI.png (deflated 0%)\n",
      "  adding: generated_images/F4_TI.png (deflated 0%)\n",
      "  adding: generated_images/R1_TI.png (deflated 0%)\n",
      "  adding: generated_images/E1_DB.png (deflated 0%)\n",
      "  adding: generated_images/C1_DB.png (deflated 0%)\n",
      "  adding: generated_images/C6_DB.png (deflated 0%)\n",
      "  adding: generated_images/E1_LoRA.png (deflated 0%)\n",
      "  adding: generated_images/E2_TI.png (deflated 0%)\n",
      "  adding: generated_images/C6_TI.png (deflated 0%)\n",
      "  adding: generated_images/C5_TI.png (deflated 0%)\n",
      "  adding: generated_images/C4_LoRA.png (deflated 0%)\n",
      "  adding: generated_images/R1_DB.png (deflated 0%)\n",
      "  adding: generated_images/F2_TI.png (deflated 0%)\n",
      "  adding: generated_images/F3_LoRA.png (deflated 0%)\n",
      "  adding: generated_images/C4_TI.png (deflated 0%)\n",
      "  adding: generated_images/E3_TI.png (deflated 0%)\n",
      "  adding: generated_images/C3_DB.png (deflated 0%)\n",
      "  adding: generated_images/E1_TI.png (deflated 0%)\n",
      "  adding: generated_images/F4_DB.png (deflated 0%)\n",
      "  adding: generated_images/R1_LoRA.png (deflated 0%)\n",
      "  adding: generated_images/C2_TI.png (deflated 0%)\n",
      "  adding: generated_images/E2_LoRA.png (deflated 0%)\n",
      "  adding: generated_images/R2_LoRA.png (deflated 0%)\n",
      "  adding: generated_images/R3_DB.png (deflated 0%)\n",
      "  adding: generated_images/E4_DB.png (deflated 0%)\n"
     ]
    }
   ],
   "source": [
    "!zip -r generated_images.zip generated_images"
   ]
  },
  {
   "cell_type": "code",
   "execution_count": null,
   "metadata": {
    "colab": {
     "base_uri": "https://localhost:8080/",
     "height": 17
    },
    "id": "Pdca0MIc1dRi",
    "outputId": "476b3c92-1a69-41a0-d054-f9521e8036ef"
   },
   "outputs": [
    {
     "data": {
      "application/javascript": [
       "\n",
       "    async function download(id, filename, size) {\n",
       "      if (!google.colab.kernel.accessAllowed) {\n",
       "        return;\n",
       "      }\n",
       "      const div = document.createElement('div');\n",
       "      const label = document.createElement('label');\n",
       "      label.textContent = `Downloading \"${filename}\": `;\n",
       "      div.appendChild(label);\n",
       "      const progress = document.createElement('progress');\n",
       "      progress.max = size;\n",
       "      div.appendChild(progress);\n",
       "      document.body.appendChild(div);\n",
       "\n",
       "      const buffers = [];\n",
       "      let downloaded = 0;\n",
       "\n",
       "      const channel = await google.colab.kernel.comms.open(id);\n",
       "      // Send a message to notify the kernel that we're ready.\n",
       "      channel.send({})\n",
       "\n",
       "      for await (const message of channel.messages) {\n",
       "        // Send a message to notify the kernel that we're ready.\n",
       "        channel.send({})\n",
       "        if (message.buffers) {\n",
       "          for (const buffer of message.buffers) {\n",
       "            buffers.push(buffer);\n",
       "            downloaded += buffer.byteLength;\n",
       "            progress.value = downloaded;\n",
       "          }\n",
       "        }\n",
       "      }\n",
       "      const blob = new Blob(buffers, {type: 'application/binary'});\n",
       "      const a = document.createElement('a');\n",
       "      a.href = window.URL.createObjectURL(blob);\n",
       "      a.download = filename;\n",
       "      div.appendChild(a);\n",
       "      a.click();\n",
       "      div.remove();\n",
       "    }\n",
       "  "
      ],
      "text/plain": [
       "<IPython.core.display.Javascript object>"
      ]
     },
     "metadata": {},
     "output_type": "display_data"
    },
    {
     "data": {
      "application/javascript": [
       "download(\"download_f786b99a-8d08-4c33-a7dd-95cd18d47e05\", \"generated_images.zip\", 91540030)"
      ],
      "text/plain": [
       "<IPython.core.display.Javascript object>"
      ]
     },
     "metadata": {},
     "output_type": "display_data"
    }
   ],
   "source": [
    "from google.colab import files\n",
    "files.download('generated_images.zip')"
   ]
  }
 ],
 "metadata": {
  "accelerator": "GPU",
  "colab": {
   "gpuType": "T4",
   "provenance": []
  },
  "kernelspec": {
   "display_name": "Python 3",
   "name": "python3"
  },
  "language_info": {
   "name": "python"
  }
 },
 "nbformat": 4,
 "nbformat_minor": 0
}
